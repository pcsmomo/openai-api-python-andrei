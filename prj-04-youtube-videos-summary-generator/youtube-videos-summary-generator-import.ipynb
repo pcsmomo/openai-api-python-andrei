{
 "cells": [
  {
   "attachments": {},
   "cell_type": "markdown",
   "id": "f9fba438",
   "metadata": {},
   "source": [
    "# Project - YouTube Videos Summary Generator"
   ]
  },
  {
   "cell_type": "markdown",
   "id": "4ff4e2cb",
   "metadata": {},
   "source": [
    "### OpenAI Authentication"
   ]
  },
  {
   "cell_type": "code",
   "execution_count": 1,
   "id": "11bcaba4",
   "metadata": {},
   "outputs": [],
   "source": [
    "import openai\n",
    "import os"
   ]
  },
  {
   "cell_type": "code",
   "execution_count": 2,
   "id": "94970d30",
   "metadata": {},
   "outputs": [],
   "source": [
    "openai.api_key = os.getenv('OPENAI_API_KEY')"
   ]
  },
  {
   "cell_type": "markdown",
   "id": "74ab2770",
   "metadata": {},
   "source": [
    "### import custom package and setup path for it"
   ]
  },
  {
   "cell_type": "code",
   "execution_count": 3,
   "id": "31f62190",
   "metadata": {},
   "outputs": [],
   "source": [
    "import sys\n",
    "from pathlib import Path\n",
    "\n",
    "# in jupyter (lab / notebook), based on notebook path\n",
    "\n",
    "# print(f\"Path.cwd(): {Path.cwd()}\")\n",
    "module_path = str(Path.cwd())\n",
    "\n",
    "if module_path not in sys.path:\n",
    "    sys.path.append(module_path)\n",
    "\n",
    "from main_functions import youtube_audio_downloader, transcribe, summarize"
   ]
  },
  {
   "cell_type": "code",
   "execution_count": 4,
   "id": "220e20af",
   "metadata": {},
   "outputs": [
    {
     "name": "stdout",
     "output_type": "stream",
     "text": [
      "Downloading the audio stream ...Done!\n",
      "Une-vie-Marie-Curie.mp3\n",
      "Starting translating to English ...Done!\n",
      "Starting summarizing ... Done\n",
      "·Token usage: 321 = 149 + 172 (prompt + completion)\n",
      "\n",
      "\n",
      "Title: Pierre and Marie Curie's Discovery of Radium\n",
      "\n",
      "Introduction: \n",
      "Pierre and Marie Curie's discovery of radium was a significant achievement in modern science. Despite facing general scepticism, the couple persevered and unlocked the keys to modern science.\n",
      "\n",
      "• Pierre and Marie Curie discovered radium amidst scepticism\n",
      "• Their discovery is one of the most crucial breakthroughs in modern science\n",
      "• The discovery of radium has major benefits in the fields of medicine, energy, and industry\n",
      "• Despite the potential benefits, radium's radioactivity also poses harmful impacts on human health\n",
      "• Pierre and Marie Curie both received a Nobel Prize in Physics for their discovery of radium\n",
      "\n",
      "Conclusion: The discovery of radium by Pierre and Marie Curie is an example of science's beauty and its potential to make a significant change in the world.\n"
     ]
    }
   ],
   "source": [
    "# link = 'https://www.youtube.com/watch?v=G7KNmW9a75Y' # Miley Cyrus - Flowers\n",
    "link = 'https://www.youtube.com/watch?v=lKfhVLqadDQ' # Marie Curie in French\n",
    "\n",
    "mp3_file = youtube_audio_downloader(link)\n",
    "print(mp3_file)\n",
    "\n",
    "# the second argument (not_english=True) is necessary if the source file is not in English and needs to be \n",
    "# translated as well\n",
    "transcript_file = transcribe(mp3_file, not_english=True) \n",
    "summary = summarize(transcript_file)\n",
    "print('\\n')\n",
    "print(summary)"
   ]
  }
 ],
 "metadata": {
  "kernelspec": {
   "display_name": ".venv",
   "language": "python",
   "name": "python3"
  },
  "language_info": {
   "codemirror_mode": {
    "name": "ipython",
    "version": 3
   },
   "file_extension": ".py",
   "mimetype": "text/x-python",
   "name": "python",
   "nbconvert_exporter": "python",
   "pygments_lexer": "ipython3",
   "version": "3.11.3"
  }
 },
 "nbformat": 4,
 "nbformat_minor": 5
}
