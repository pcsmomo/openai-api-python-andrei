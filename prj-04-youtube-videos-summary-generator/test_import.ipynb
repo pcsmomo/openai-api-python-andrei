{
 "cells": [
  {
   "cell_type": "code",
   "execution_count": 1,
   "id": "e7e2c226",
   "metadata": {},
   "outputs": [],
   "source": [
    "import sys\n",
    "from pathlib import Path\n",
    "\n",
    "# in jupyter (lab / notebook), based on notebook path\n",
    "\n",
    "# print(f\"Path.cwd(): {Path.cwd()}\")\n",
    "module_path = str(Path.cwd())\n",
    "\n",
    "if module_path not in sys.path:\n",
    "    sys.path.append(module_path)\n",
    "\n",
    "from test_func import test_func"
   ]
  },
  {
   "cell_type": "code",
   "execution_count": 2,
   "id": "209d584a",
   "metadata": {},
   "outputs": [
    {
     "name": "stdout",
     "output_type": "stream",
     "text": [
      "test\n"
     ]
    }
   ],
   "source": [
    "test_func()"
   ]
  }
 ],
 "metadata": {
  "kernelspec": {
   "display_name": ".venv",
   "language": "python",
   "name": "python3"
  },
  "language_info": {
   "codemirror_mode": {
    "name": "ipython",
    "version": 3
   },
   "file_extension": ".py",
   "mimetype": "text/x-python",
   "name": "python",
   "nbconvert_exporter": "python",
   "pygments_lexer": "ipython3",
   "version": "3.11.3"
  }
 },
 "nbformat": 4,
 "nbformat_minor": 5
}
