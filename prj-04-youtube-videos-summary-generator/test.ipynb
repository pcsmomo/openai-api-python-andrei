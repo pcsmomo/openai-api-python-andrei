{
 "cells": [
  {
   "attachments": {},
   "cell_type": "markdown",
   "id": "f9fba438",
   "metadata": {},
   "source": [
    "# Project - YouTube Videos Summary Generator"
   ]
  },
  {
   "cell_type": "code",
   "execution_count": null,
   "id": "e7e2c226",
   "metadata": {},
   "outputs": [],
   "source": [
    "# !pip -q install pytube"
   ]
  },
  {
   "cell_type": "code",
   "execution_count": null,
   "id": "664c18e6",
   "metadata": {},
   "outputs": [],
   "source": [
    "import os\n",
    "from pytube import YouTube"
   ]
  },
  {
   "cell_type": "code",
   "execution_count": null,
   "id": "66f09a3d",
   "metadata": {},
   "outputs": [],
   "source": [
    "link = 'https://www.youtube.com/watch?v=NVxaP-qEagQ'\n",
    "yt = YouTube(link)"
   ]
  },
  {
   "cell_type": "code",
   "execution_count": null,
   "id": "a23b093a",
   "metadata": {},
   "outputs": [],
   "source": [
    "print(f'Title: {yt.title}')\n",
    "print(f'Author: {yt.author}')\n",
    "print(f'Number of views: {yt.views}')\n",
    "print(f'Length of video: {yt.length} seconds')\n",
    "print(f'Rating of video: {yt.rating}')\n",
    "print(f'Thumbnail link: {yt.thumbnail_url}')\n",
    "print(f'Description: {yt.description}')\n",
    "print(f'Publication date: {yt.publish_date}')"
   ]
  },
  {
   "cell_type": "code",
   "execution_count": null,
   "id": "0a22dda9",
   "metadata": {},
   "outputs": [],
   "source": [
    "print(yt.streams)"
   ]
  },
  {
   "cell_type": "markdown",
   "id": "c7b34cdc",
   "metadata": {},
   "source": [
    "### download video"
   ]
  },
  {
   "cell_type": "code",
   "execution_count": null,
   "id": "949ce343",
   "metadata": {},
   "outputs": [],
   "source": [
    "ys = yt.streams.get_highest_resolution()\n",
    "print(f'Downloading video: {ys}')\n",
    "ys.download()\n",
    "print('Download completed!!')"
   ]
  },
  {
   "attachments": {},
   "cell_type": "markdown",
   "id": "07708263",
   "metadata": {},
   "source": [
    "### download audio"
   ]
  },
  {
   "cell_type": "code",
   "execution_count": null,
   "id": "302c77fd",
   "metadata": {},
   "outputs": [],
   "source": [
    "audio = yt.streams.filter(only_audio=True).first()\n",
    "print(f'Downloading audio: {audio}')\n",
    "output_file = audio.download(output_path='..')\n",
    "print('Download completed!!')"
   ]
  },
  {
   "attachments": {},
   "cell_type": "markdown",
   "id": "9fce9c01",
   "metadata": {},
   "source": [
    "### polish audio file name"
   ]
  },
  {
   "cell_type": "code",
   "execution_count": null,
   "id": "8b69f546",
   "metadata": {},
   "outputs": [],
   "source": [
    "import re\n",
    "basename = os.path.basename(output_file)\n",
    "print(basename)\n",
    "name, extension = os.path.splitext(basename)\n",
    "print(f'Name: {name}, Extension: {extension}')\n",
    "audio_file = f'{name}.mp3'\n",
    "\n",
    "audio_file = re.sub('\\s+', '-', audio_file)\n",
    "# print(audio_file)\n",
    "print(f'Renaming {basename} to {audio_file}')\n",
    "os.rename(basename, audio_file)"
   ]
  }
 ],
 "metadata": {
  "kernelspec": {
   "display_name": ".venv",
   "language": "python",
   "name": "python3"
  },
  "language_info": {
   "codemirror_mode": {
    "name": "ipython",
    "version": 3
   },
   "file_extension": ".py",
   "mimetype": "text/x-python",
   "name": "python",
   "nbconvert_exporter": "python",
   "pygments_lexer": "ipython3",
   "version": "3.11.3"
  }
 },
 "nbformat": 4,
 "nbformat_minor": 5
}
