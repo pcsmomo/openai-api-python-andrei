{
 "cells": [
  {
   "cell_type": "code",
   "execution_count": null,
   "id": "e7e2c226",
   "metadata": {},
   "outputs": [],
   "source": [
    "# !pip -q install pytube"
   ]
  },
  {
   "cell_type": "code",
   "execution_count": 1,
   "id": "664c18e6",
   "metadata": {},
   "outputs": [],
   "source": [
    "import os\n",
    "from pytube import YouTube"
   ]
  },
  {
   "cell_type": "code",
   "execution_count": 2,
   "id": "66f09a3d",
   "metadata": {},
   "outputs": [],
   "source": [
    "# link = 'https://www.youtube.com/watch?v=G7KNmW9a75Y' # Miley Cyrus - Flowers\n",
    "# link = 'https://www.youtube.com/watch?v=RI3JCq9-bbM' # Do we have free will?\n",
    "link = 'https://www.youtube.com/watch?v=Jyi1bNnvbCY' # Short lecture\n",
    "yt = YouTube(link)"
   ]
  },
  {
   "cell_type": "code",
   "execution_count": 3,
   "id": "a23b093a",
   "metadata": {},
   "outputs": [
    {
     "name": "stdout",
     "output_type": "stream",
     "text": [
      "Title: TOEFL Listening Practice - Lecture 1\n",
      "Author: GGothica\n",
      "Number of views: 299299\n",
      "Length of video: 159 seconds\n",
      "Rating of video: None\n",
      "Thumbnail link: https://i.ytimg.com/vi/Jyi1bNnvbCY/hqdefault.jpg?sqp=-oaymwEjCNACELwBSFryq4qpAxUIARUAAAAAGAElAADIQj0AgKJDeAE=&rs=AOn4CLCPG0rYV39VtA-CXRaiflCSlnY3uQ\n",
      "Publication date: 2011-11-11 00:00:00\n"
     ]
    }
   ],
   "source": [
    "print(f'Title: {yt.title}')\n",
    "print(f'Author: {yt.author}')\n",
    "print(f'Number of views: {yt.views}')\n",
    "print(f'Length of video: {yt.length} seconds')\n",
    "print(f'Rating of video: {yt.rating}')\n",
    "print(f'Thumbnail link: {yt.thumbnail_url}')\n",
    "# print(f'Description: {yt.description}')   # too long\n",
    "print(f'Publication date: {yt.publish_date}')"
   ]
  },
  {
   "cell_type": "code",
   "execution_count": 4,
   "id": "0a22dda9",
   "metadata": {},
   "outputs": [
    {
     "name": "stdout",
     "output_type": "stream",
     "text": [
      "[<Stream: itag=\"18\" mime_type=\"video/mp4\" res=\"360p\" fps=\"30fps\" vcodec=\"avc1.42001E\" acodec=\"mp4a.40.2\" progressive=\"True\" type=\"video\">, <Stream: itag=\"135\" mime_type=\"video/mp4\" res=\"480p\" fps=\"30fps\" vcodec=\"avc1.4d401e\" progressive=\"False\" type=\"video\">, <Stream: itag=\"244\" mime_type=\"video/webm\" res=\"480p\" fps=\"30fps\" vcodec=\"vp9\" progressive=\"False\" type=\"video\">, <Stream: itag=\"134\" mime_type=\"video/mp4\" res=\"360p\" fps=\"30fps\" vcodec=\"avc1.4d401e\" progressive=\"False\" type=\"video\">, <Stream: itag=\"243\" mime_type=\"video/webm\" res=\"360p\" fps=\"30fps\" vcodec=\"vp9\" progressive=\"False\" type=\"video\">, <Stream: itag=\"133\" mime_type=\"video/mp4\" res=\"240p\" fps=\"30fps\" vcodec=\"avc1.4d400d\" progressive=\"False\" type=\"video\">, <Stream: itag=\"242\" mime_type=\"video/webm\" res=\"240p\" fps=\"30fps\" vcodec=\"vp9\" progressive=\"False\" type=\"video\">, <Stream: itag=\"160\" mime_type=\"video/mp4\" res=\"144p\" fps=\"30fps\" vcodec=\"avc1.4d400c\" progressive=\"False\" type=\"video\">, <Stream: itag=\"278\" mime_type=\"video/webm\" res=\"144p\" fps=\"30fps\" vcodec=\"vp9\" progressive=\"False\" type=\"video\">, <Stream: itag=\"140\" mime_type=\"audio/mp4\" abr=\"128kbps\" acodec=\"mp4a.40.2\" progressive=\"False\" type=\"audio\">, <Stream: itag=\"249\" mime_type=\"audio/webm\" abr=\"50kbps\" acodec=\"opus\" progressive=\"False\" type=\"audio\">, <Stream: itag=\"250\" mime_type=\"audio/webm\" abr=\"70kbps\" acodec=\"opus\" progressive=\"False\" type=\"audio\">, <Stream: itag=\"251\" mime_type=\"audio/webm\" abr=\"160kbps\" acodec=\"opus\" progressive=\"False\" type=\"audio\">]\n"
     ]
    }
   ],
   "source": [
    "print(yt.streams)"
   ]
  },
  {
   "cell_type": "markdown",
   "id": "c7b34cdc",
   "metadata": {},
   "source": [
    "### download video"
   ]
  },
  {
   "cell_type": "code",
   "execution_count": 5,
   "id": "949ce343",
   "metadata": {},
   "outputs": [
    {
     "name": "stdout",
     "output_type": "stream",
     "text": [
      "Downloading video\n",
      "Download completed!!\n"
     ]
    }
   ],
   "source": [
    "ys = yt.streams.get_highest_resolution()\n",
    "print(f'Downloading video')\n",
    "ys.download()\n",
    "print('Download completed!!')"
   ]
  },
  {
   "attachments": {},
   "cell_type": "markdown",
   "id": "07708263",
   "metadata": {},
   "source": [
    "### download audio"
   ]
  },
  {
   "cell_type": "code",
   "execution_count": 6,
   "id": "302c77fd",
   "metadata": {},
   "outputs": [
    {
     "name": "stdout",
     "output_type": "stream",
     "text": [
      "Downloading audio: <Stream: itag=\"140\" mime_type=\"audio/mp4\" abr=\"128kbps\" acodec=\"mp4a.40.2\" progressive=\"False\" type=\"audio\">\n",
      "Download completed!!\n"
     ]
    }
   ],
   "source": [
    "audio = yt.streams.filter(only_audio=True).first()\n",
    "print(f'Downloading audio: {audio}')\n",
    "output_file = audio.download(output_path='..')\n",
    "print('Download completed!!')"
   ]
  },
  {
   "attachments": {},
   "cell_type": "markdown",
   "id": "9fce9c01",
   "metadata": {},
   "source": [
    "### polish audio file name"
   ]
  },
  {
   "cell_type": "code",
   "execution_count": 7,
   "id": "8b69f546",
   "metadata": {},
   "outputs": [
    {
     "name": "stdout",
     "output_type": "stream",
     "text": [
      "TOEFL Listening Practice - Lecture 1.mp4\n",
      "Name: TOEFL Listening Practice - Lecture 1, Extension: .mp4\n",
      "Renaming TOEFL Listening Practice - Lecture 1.mp4 to TOEFL-Listening-Practice---Lecture-1.mp3\n"
     ]
    }
   ],
   "source": [
    "import re\n",
    "basename = os.path.basename(output_file)\n",
    "print(basename)\n",
    "name, extension = os.path.splitext(basename)\n",
    "print(f'Name: {name}, Extension: {extension}')\n",
    "audio_file = f'{name}.mp3'\n",
    "\n",
    "audio_file = re.sub('\\s+', '-', audio_file)\n",
    "# print(audio_file)\n",
    "print(f'Renaming {basename} to {audio_file}')\n",
    "os.rename(basename, audio_file)"
   ]
  }
 ],
 "metadata": {
  "kernelspec": {
   "display_name": ".venv",
   "language": "python",
   "name": "python3"
  },
  "language_info": {
   "codemirror_mode": {
    "name": "ipython",
    "version": 3
   },
   "file_extension": ".py",
   "mimetype": "text/x-python",
   "name": "python",
   "nbconvert_exporter": "python",
   "pygments_lexer": "ipython3",
   "version": "3.11.3"
  }
 },
 "nbformat": 4,
 "nbformat_minor": 5
}
