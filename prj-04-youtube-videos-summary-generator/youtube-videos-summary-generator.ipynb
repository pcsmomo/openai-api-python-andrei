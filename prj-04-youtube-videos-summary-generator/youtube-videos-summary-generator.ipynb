{
 "cells": [
  {
   "attachments": {},
   "cell_type": "markdown",
   "id": "f9fba438",
   "metadata": {},
   "source": [
    "# Project - YouTube Videos Summary Generator"
   ]
  },
  {
   "cell_type": "markdown",
   "id": "4ff4e2cb",
   "metadata": {},
   "source": [
    "### OpenAI Authentication"
   ]
  },
  {
   "cell_type": "code",
   "execution_count": null,
   "id": "11bcaba4",
   "metadata": {},
   "outputs": [],
   "source": [
    "import openai\n",
    "import os"
   ]
  },
  {
   "cell_type": "code",
   "execution_count": null,
   "id": "94970d30",
   "metadata": {},
   "outputs": [],
   "source": [
    "openai.api_key = os.getenv('OPENAI_API_KEY')"
   ]
  },
  {
   "cell_type": "markdown",
   "id": "74ab2770",
   "metadata": {},
   "source": [
    "### import custom package and setup path for it"
   ]
  },
  {
   "cell_type": "code",
   "execution_count": null,
   "id": "31f62190",
   "metadata": {},
   "outputs": [],
   "source": [
    "import sys\n",
    "from pathlib import Path\n",
    "\n",
    "# in jupyter (lab / notebook), based on notebook path\n",
    "\n",
    "# print(f\"Path.cwd(): {Path.cwd()}\")\n",
    "module_path = str(Path.cwd().parents[0])\n",
    "\n",
    "if module_path not in sys.path:\n",
    "    sys.path.append(module_path)\n",
    "\n",
    "from common.usage import print_token_usage"
   ]
  },
  {
   "cell_type": "code",
   "execution_count": null,
   "id": "e7e2c226",
   "metadata": {},
   "outputs": [],
   "source": [
    "# !pip -q install pytube"
   ]
  },
  {
   "cell_type": "code",
   "execution_count": null,
   "id": "664c18e6",
   "metadata": {},
   "outputs": [],
   "source": [
    "def youtube_audio_downloader(link):\n",
    "    from pytube import YouTube\n",
    "    import os\n",
    "    import re\n",
    "    if 'youtube.com' not in link:\n",
    "        print('Invalid YouTube link!')\n",
    "        return False\n",
    "    \n",
    "    yt = YouTube(link)\n",
    "    \n",
    "    audio = yt.streams.filter(only_audio=True).first()\n",
    "    print('Downloading the audio stream ...', end='')\n",
    "    output_file = audio.download()\n",
    "    if os.path.exists(output_file):\n",
    "        print('Done!')\n",
    "    else:\n",
    "        print('Error downloading the file!')\n",
    "        return False\n",
    "    \n",
    "    basename = os.path.basename(output_file)\n",
    "    name, extension = os.path.splitext(basename)\n",
    "    audio_file = f'{name}.mp3'\n",
    "    audio_file = re.sub('\\s+', '-', audio_file)\n",
    "    os.rename(basename, audio_file)\n",
    "    return audio_file\n",
    "\n",
    "def transcribe(audio_file):\n",
    "    import os\n",
    "    import openai\n",
    "\n",
    "    if not os.path.exists(audio_file):\n",
    "        print('Audio file does not exist!')\n",
    "        return False\n",
    "\n",
    "    with open(audio_file, 'rb') as f:\n",
    "        print('Starting transcribing ... ', end='')\n",
    "        transcript = openai.Audio.transcribe('whisper-1', f)\n",
    "        print('Done!')\n",
    "\n",
    "    name, extension = os.path.splitext(audio_file)\n",
    "    transcript_filename = f'transcript-{name}.txt'\n",
    "    with open(transcript_filename, 'w') as f:\n",
    "        f.write(transcript['text'])\n",
    "            \n",
    "    return transcript_filename\n",
    "\n",
    "# summarizing the transcript using GPT\n",
    "def summarize(transcript_filename):\n",
    "    import openai \n",
    "    import os\n",
    "    \n",
    "    if not os.path.exists(transcript_filename):\n",
    "        print('The transcript file does not exist!')\n",
    "        return False\n",
    "    \n",
    "    with open(transcript_filename) as f:\n",
    "        transcript = f.read()\n",
    "        \n",
    "    system_prompt = 'I want you to act as a Life Coach.'\n",
    "    prompt = f'''Create a summary of the following text.\n",
    "    Text: {transcript}\n",
    "    \n",
    "    Add a title to the summary.\n",
    "    Your summary should be informative and factual, covering the most important aspects of the topic.\n",
    "    Start your summary with an INTRODUCTION PARAGRAPH that gives an overview of the topic FOLLOWED\n",
    "    by BULLET POINTS if possible AND end the summary with a CONCLUSION PHRASE.'''\n",
    "    \n",
    "    print('Starting summarizing ... ', end='')\n",
    "    response = openai.ChatCompletion.create(\n",
    "        model='gpt-3.5-turbo',\n",
    "        messages=[\n",
    "            {'role': 'system', 'content': system_prompt},\n",
    "            {'role': 'user', 'content': prompt}\n",
    "        ],\n",
    "        max_tokens=2048,\n",
    "        temperature=1\n",
    "    )\n",
    "    \n",
    "    print('Done')\n",
    "    print_token_usage(response)\n",
    "    r = response['choices'][0]['message']['content']\n",
    "    return r"
   ]
  },
  {
   "cell_type": "code",
   "execution_count": null,
   "id": "220e20af",
   "metadata": {},
   "outputs": [],
   "source": [
    "link = 'https://www.youtube.com/watch?v=G7KNmW9a75Y' # Miley Cyrus - Flowers\n",
    "\n",
    "mp3_file = youtube_audio_downloader(link)\n",
    "print(mp3_file)\n",
    "\n",
    "transcript_file = transcribe(mp3_file) \n"
   ]
  }
 ],
 "metadata": {
  "kernelspec": {
   "display_name": ".venv",
   "language": "python",
   "name": "python3"
  },
  "language_info": {
   "codemirror_mode": {
    "name": "ipython",
    "version": 3
   },
   "file_extension": ".py",
   "mimetype": "text/x-python",
   "name": "python",
   "nbconvert_exporter": "python",
   "pygments_lexer": "ipython3",
   "version": "3.11.3"
  }
 },
 "nbformat": 4,
 "nbformat_minor": 5
}
