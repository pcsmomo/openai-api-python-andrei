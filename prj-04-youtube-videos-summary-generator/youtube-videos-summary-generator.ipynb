{
 "cells": [
  {
   "attachments": {},
   "cell_type": "markdown",
   "id": "f9fba438",
   "metadata": {},
   "source": [
    "# Project - YouTube Videos Summary Generator"
   ]
  },
  {
   "cell_type": "markdown",
   "id": "4ff4e2cb",
   "metadata": {},
   "source": [
    "### OpenAI Authentication"
   ]
  },
  {
   "cell_type": "code",
   "execution_count": null,
   "id": "11bcaba4",
   "metadata": {},
   "outputs": [],
   "source": [
    "import openai\n",
    "import os"
   ]
  },
  {
   "cell_type": "code",
   "execution_count": null,
   "id": "94970d30",
   "metadata": {},
   "outputs": [],
   "source": [
    "openai.api_key = os.getenv('OPENAI_API_KEY')"
   ]
  },
  {
   "cell_type": "markdown",
   "id": "74ab2770",
   "metadata": {},
   "source": [
    "### import custom package and setup path for it"
   ]
  },
  {
   "cell_type": "code",
   "execution_count": null,
   "id": "31f62190",
   "metadata": {},
   "outputs": [],
   "source": [
    "import sys\n",
    "from pathlib import Path\n",
    "\n",
    "# in jupyter (lab / notebook), based on notebook path\n",
    "\n",
    "# print(f\"Path.cwd(): {Path.cwd()}\")\n",
    "module_path = str(Path.cwd().parents[0])\n",
    "\n",
    "if module_path not in sys.path:\n",
    "    sys.path.append(module_path)\n",
    "\n",
    "from common.usage import print_token_usage"
   ]
  },
  {
   "cell_type": "code",
   "execution_count": null,
   "id": "e7e2c226",
   "metadata": {},
   "outputs": [],
   "source": [
    "# !pip -q install pytube"
   ]
  },
  {
   "cell_type": "code",
   "execution_count": null,
   "id": "664c18e6",
   "metadata": {},
   "outputs": [],
   "source": [
    "def youtube_audio_downloader(link):\n",
    "    from pytube import YouTube\n",
    "    import os\n",
    "    import re\n",
    "    if 'youtube.com' not in link:\n",
    "        print('Invalid YouTube link!')\n",
    "        return False\n",
    "    \n",
    "    yt = YouTube(link)\n",
    "    \n",
    "    audio = yt.streams.filter(only_audio=True).first()\n",
    "    print('Downloading the audio stream ...', end='')\n",
    "    output_file = audio.download()\n",
    "    if os.path.exists(output_file):\n",
    "        print('Done!')\n",
    "    else:\n",
    "        print('Error downloading the file!')\n",
    "        return False\n",
    "    \n",
    "    basename = os.path.basename(output_file)\n",
    "    name, extension = os.path.splitext(basename)\n",
    "    audio_file = f'{name}.mp3'\n",
    "    audio_file = re.sub('\\s+', '-', audio_file)\n",
    "    os.rename(basename, audio_file)\n",
    "    return audio_file\n"
   ]
  },
  {
   "cell_type": "code",
   "execution_count": null,
   "id": "220e20af",
   "metadata": {},
   "outputs": [],
   "source": [
    "link = 'https://www.youtube.com/watch?v=G7KNmW9a75Y' # Miley Cyrus - Flowers\n",
    "\n",
    "mp3_file = youtube_audio_downloader(link)\n",
    "print(mp3_file)"
   ]
  }
 ],
 "metadata": {
  "kernelspec": {
   "display_name": ".venv",
   "language": "python",
   "name": "python3"
  },
  "language_info": {
   "codemirror_mode": {
    "name": "ipython",
    "version": 3
   },
   "file_extension": ".py",
   "mimetype": "text/x-python",
   "name": "python",
   "nbconvert_exporter": "python",
   "pygments_lexer": "ipython3",
   "version": "3.11.3"
  }
 },
 "nbformat": 4,
 "nbformat_minor": 5
}
