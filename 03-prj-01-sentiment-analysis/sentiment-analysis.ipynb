{
 "cells": [
  {
   "cell_type": "markdown",
   "id": "01bd24ec",
   "metadata": {},
   "source": [
    "# Project: Zero-shot Sentiment Analysis"
   ]
  },
  {
   "cell_type": "markdown",
   "id": "e4afc6ce",
   "metadata": {},
   "source": [
    "### OpenAI Authentication"
   ]
  },
  {
   "cell_type": "code",
   "execution_count": 1,
   "id": "214a3a39",
   "metadata": {},
   "outputs": [],
   "source": [
    "import openai\n",
    "import os"
   ]
  },
  {
   "cell_type": "code",
   "execution_count": 2,
   "id": "cc7a5328",
   "metadata": {},
   "outputs": [],
   "source": [
    "openai.api_key = os.getenv('OPENAI_API_KEY')"
   ]
  },
  {
   "cell_type": "markdown",
   "id": "209d1538",
   "metadata": {},
   "source": [
    "### import custom package and setup path for it"
   ]
  },
  {
   "cell_type": "code",
   "execution_count": 3,
   "id": "191fdfd2",
   "metadata": {},
   "outputs": [],
   "source": [
    "import sys\n",
    "from pathlib import Path\n",
    "\n",
    "# in jupyter (lab / notebook), based on notebook path\n",
    "\n",
    "# print(f\"Path.cwd(): {Path.cwd()}\")\n",
    "module_path = str(Path.cwd().parents[0])\n",
    "\n",
    "if module_path not in sys.path:\n",
    "    sys.path.append(module_path)\n",
    "\n",
    "from common.usage import print_token_usage"
   ]
  },
  {
   "cell_type": "code",
   "execution_count": 4,
   "id": "b1e105be",
   "metadata": {},
   "outputs": [],
   "source": [
    "def gpt_classify_sentiment(prompt, emotions):\n",
    "    system_prompt = f'''You are an emotionally intelligent assistant.\n",
    "    Classify the sentiment of the user's text with ONLY ONE OF THE FOLLOWING EMOTIONS: {emotions}.\n",
    "    After classifying the text, respond with the emotion ONLY.'''\n",
    "    response = openai.ChatCompletion.create(\n",
    "        model='gpt-3.5-turbo',\n",
    "        messages=[\n",
    "            {'role': 'system', 'content': system_prompt},\n",
    "            {'role': 'user', 'content': prompt}\n",
    "        ],\n",
    "        max_tokens=20,\n",
    "        temperature=0\n",
    "    )\n",
    "    r = response['choices'][0].message.content\n",
    "\n",
    "    if r == '':\n",
    "        r = 'N/A'\n",
    "\n",
    "    print_token_usage(response)        \n",
    "    return r"
   ]
  },
  {
   "cell_type": "code",
   "execution_count": 5,
   "id": "be3b1252",
   "metadata": {},
   "outputs": [
    {
     "name": "stdout",
     "output_type": "stream",
     "text": [
      "·Token usage: 66 = 65 + 1 (prompt + completion)\n",
      "negative\n"
     ]
    }
   ],
   "source": [
    "emotions = 'positive, negative'\n",
    "prompt = 'AI will take over the world.'\n",
    "print(gpt_classify_sentiment(prompt, emotions))"
   ]
  },
  {
   "attachments": {},
   "cell_type": "markdown",
   "id": "b899cf23",
   "metadata": {},
   "source": [
    "#### Guessing Emotions"
   ]
  },
  {
   "cell_type": "code",
   "execution_count": 6,
   "id": "f6658cb8",
   "metadata": {},
   "outputs": [
    {
     "name": "stdout",
     "output_type": "stream",
     "text": [
      "I lost my phone.\n",
      "·Token usage: 85 = 84 + 1 (prompt + completion)\n",
      "sad\n",
      "\n",
      "AI will take over the world and extinct the human race.\n",
      "·Token usage: 93 = 91 + 2 (prompt + completion)\n",
      "angry\n",
      "\n",
      "I am going to sleep.\n",
      "·Token usage: 87 = 85 + 2 (prompt + completion)\n",
      "tired\n",
      "\n",
      "Let's take a break! I can't do it anymore!\n",
      "·Token usage: 94 = 92 + 2 (prompt + completion)\n",
      "tired\n",
      "\n",
      "The company CEO just missed out a $10 million bonus, but he still got a raise.\n",
      "·Token usage: 100 = 98 + 2 (prompt + completion)\n",
      "angry\n",
      "\n",
      "😀\n",
      "·Token usage: 83 = 81 + 2 (prompt + completion)\n",
      "very happy\n"
     ]
    }
   ],
   "source": [
    "emotions = \"happy, sad, angry, mad, tired, very happy, very sad, very angry, very tired, very mad\"\n",
    "prompt = 'I lost my phone.'\n",
    "print(prompt)\n",
    "print(gpt_classify_sentiment(prompt, emotions))\n",
    "\n",
    "prompt = 'AI will take over the world and extinct the human race.'\n",
    "print(f'\\n{prompt}')\n",
    "print(gpt_classify_sentiment(prompt, emotions))\n",
    "\n",
    "prompt = 'I am going to sleep.'\n",
    "print(f'\\n{prompt}')\n",
    "print(gpt_classify_sentiment(prompt, emotions))\n",
    "\n",
    "prompt = \"Let's take a break! I can't do it anymore!\"\n",
    "print(f'\\n{prompt}')\n",
    "print(gpt_classify_sentiment(prompt, emotions))\n",
    "\n",
    "prompt = 'The company CEO just missed out a $10 million bonus, but he still got a raise.'\n",
    "print(f'\\n{prompt}')\n",
    "print(gpt_classify_sentiment(prompt, emotions))\n",
    "\n",
    "prompt = '😀'\n",
    "print(f'\\n{prompt}')\n",
    "print(gpt_classify_sentiment(prompt, emotions))"
   ]
  },
  {
   "attachments": {},
   "cell_type": "markdown",
   "id": "fbbeaf36",
   "metadata": {},
   "source": [
    "#### Positive/Negative"
   ]
  },
  {
   "cell_type": "code",
   "execution_count": 7,
   "id": "5358f673",
   "metadata": {},
   "outputs": [
    {
     "name": "stdout",
     "output_type": "stream",
     "text": [
      "·Token usage: 104 = 103 + 1 (prompt + completion)\n",
      "Super explanation with all the important things yo ... ======> POSITIVE\n",
      "·Token usage: 76 = 75 + 1 (prompt + completion)\n",
      "This wasn't a good match for me and doesn't fit my ... ======> NEGATIVE\n"
     ]
    }
   ],
   "source": [
    "emotions = 'positive, negative'\n",
    "review = '''Super explanation with all the important things you have to know in Python.\n",
    "The course has a lot of examples and exercises.\n",
    "Part 2 contains a lot of Python projects and shows you how to use Python in real-world scenarios.'''\n",
    "emotion = gpt_classify_sentiment(review, emotions)\n",
    "print(f'{review[:50]} ... ======> {emotion.upper()}')\n",
    "\n",
    "review = '''This wasn't a good match for me and doesn't fit my learning style. '''\n",
    "emotion = gpt_classify_sentiment(review, emotions)\n",
    "print(f'{review[:50]} ... ======> {emotion.upper()}')"
   ]
  },
  {
   "attachments": {},
   "cell_type": "markdown",
   "id": "65f4f719",
   "metadata": {},
   "source": [
    "#### True/False (The answer can be wrong though..)"
   ]
  },
  {
   "cell_type": "code",
   "execution_count": 8,
   "id": "7ed6822f",
   "metadata": {},
   "outputs": [
    {
     "name": "stdout",
     "output_type": "stream",
     "text": [
      "·Token usage: 69 = 67 + 2 (prompt + completion)\n",
      "The Moon landings were all faked. ====> FALSE.\n",
      "·Token usage: 65 = 63 + 2 (prompt + completion)\n",
      "The Earth is flat. ====> FALSE.\n",
      "·Token usage: 71 = 69 + 2 (prompt + completion)\n",
      "Elvis Presley died in year 1977. ====> FALSE.\n",
      "·Token usage: 79 = 77 + 2 (prompt + completion)\n",
      "Quantum entanglement has been experimentally demonstrated with photons, electrons, and other particles. ====> TRUE.\n"
     ]
    }
   ],
   "source": [
    "emotions = 'False, True'\n",
    "prompt = 'The Moon landings were all faked.'\n",
    "emotion = gpt_classify_sentiment(prompt, emotions)\n",
    "print(f'{prompt} ====> {emotion.upper()}')\n",
    "\n",
    "prompt = 'The Earth is flat.'\n",
    "emotion = gpt_classify_sentiment(prompt, emotions)\n",
    "print(f'{prompt} ====> {emotion.upper()}')\n",
    "\n",
    "prompt = 'Elvis Presley died in year 1977.'\n",
    "emotion = gpt_classify_sentiment(prompt, emotions)\n",
    "print(f'{prompt} ====> {emotion.upper()}')\n",
    "\n",
    "prompt = 'Quantum entanglement has been experimentally demonstrated with photons, electrons, and other particles.'\n",
    "emotion = gpt_classify_sentiment(prompt, emotions)\n",
    "print(f'{prompt} ====> {emotion.upper()}')"
   ]
  }
 ],
 "metadata": {
  "kernelspec": {
   "display_name": ".venv",
   "language": "python",
   "name": "python3"
  },
  "language_info": {
   "codemirror_mode": {
    "name": "ipython",
    "version": 3
   },
   "file_extension": ".py",
   "mimetype": "text/x-python",
   "name": "python",
   "nbconvert_exporter": "python",
   "pygments_lexer": "ipython3",
   "version": "3.11.3"
  }
 },
 "nbformat": 4,
 "nbformat_minor": 5
}
