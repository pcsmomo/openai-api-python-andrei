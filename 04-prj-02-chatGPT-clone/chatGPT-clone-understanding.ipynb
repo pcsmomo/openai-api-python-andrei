{
 "cells": [
  {
   "cell_type": "markdown",
   "id": "4ff4e2cb",
   "metadata": {},
   "source": [
    "### OpenAI Authentication"
   ]
  },
  {
   "cell_type": "code",
   "execution_count": 1,
   "id": "11bcaba4",
   "metadata": {},
   "outputs": [],
   "source": [
    "import openai\n",
    "import os"
   ]
  },
  {
   "cell_type": "code",
   "execution_count": 2,
   "id": "94970d30",
   "metadata": {},
   "outputs": [],
   "source": [
    "openai.api_key = os.getenv('OPENAI_API_KEY')"
   ]
  },
  {
   "cell_type": "markdown",
   "id": "74ab2770",
   "metadata": {},
   "source": [
    "### import custom package and setup path for it"
   ]
  },
  {
   "cell_type": "code",
   "execution_count": 3,
   "id": "31f62190",
   "metadata": {},
   "outputs": [],
   "source": [
    "import sys\n",
    "from pathlib import Path\n",
    "\n",
    "# in jupyter (lab / notebook), based on notebook path\n",
    "\n",
    "# print(f\"Path.cwd(): {Path.cwd()}\")\n",
    "module_path = str(Path.cwd().parents[0])\n",
    "\n",
    "if module_path not in sys.path:\n",
    "    sys.path.append(module_path)\n",
    "\n",
    "from common.usage import print_token_usage"
   ]
  },
  {
   "attachments": {},
   "cell_type": "markdown",
   "id": "8b9efea1",
   "metadata": {},
   "source": [
    "### ChatGPT - understanding"
   ]
  },
  {
   "cell_type": "code",
   "execution_count": 4,
   "id": "4037bcee",
   "metadata": {},
   "outputs": [],
   "source": [
    "q1 = 'What are the healthiest foods to eat every day?'\n",
    "q2 = 'Make a recipe with those foods.'\n",
    "q3 = 'What is the amount of kcal?'"
   ]
  },
  {
   "cell_type": "code",
   "execution_count": 5,
   "id": "9f883c6c",
   "metadata": {},
   "outputs": [
    {
     "name": "stdout",
     "output_type": "stream",
     "text": [
      "·Token usage: 67 = 32 + 35 (prompt + completion)\n",
      "Some of the healthiest foods to eat every day include fruits, vegetables, whole grains, lean proteins, and healthy fats such as nuts, seeds, and avocados.\n",
      "\n",
      "--------------------------------------------------\n",
      "\n"
     ]
    }
   ],
   "source": [
    "# Q1\n",
    "messages = [\n",
    "    {'role': 'system', 'content': 'Answer as concisely as possible.'},\n",
    "    {'role': 'user', 'content': q1}\n",
    "]\n",
    "\n",
    "response = openai.ChatCompletion.create(\n",
    "    model='gpt-3.5-turbo',\n",
    "    messages=messages,\n",
    "    temperature=0.7\n",
    ")\n",
    "\n",
    "bot_response_1 = response.choices[0]['message']['content']\n",
    "print_token_usage(response)\n",
    "print(bot_response_1)\n",
    "print()\n",
    "print('-' * 50)\n",
    "print()"
   ]
  },
  {
   "cell_type": "code",
   "execution_count": 6,
   "id": "58f637ba",
   "metadata": {},
   "outputs": [
    {
     "name": "stdout",
     "output_type": "stream",
     "text": [
      "·Token usage: 322 = 84 + 238 (prompt + completion)\n",
      "Here's a recipe for a healthy and delicious salad that includes some of the foods mentioned above:\n",
      "\n",
      "Quinoa and Chickpea Salad\n",
      "\n",
      "Ingredients:\n",
      "- 1 cup cooked quinoa\n",
      "- 1 can chickpeas, drained and rinsed\n",
      "- 1 bell pepper, chopped\n",
      "- 1 cucumber, chopped\n",
      "- 1 avocado, chopped\n",
      "- 1/4 cup chopped fresh herbs (such as parsley, cilantro, or mint)\n",
      "- 1/4 cup chopped nuts (such as almonds or walnuts)\n",
      "- 2 tablespoons olive oil\n",
      "- 2 tablespoons lemon juice\n",
      "- Salt and pepper to taste\n",
      "\n",
      "Instructions:\n",
      "1. In a large bowl, combine the cooked quinoa, chickpeas, bell pepper, cucumber, avocado, fresh herbs, and nuts.\n",
      "2. In a separate small bowl, whisk together the olive oil, lemon juice, salt, and pepper.\n",
      "3. Pour the dressing over the salad and toss well to combine.\n",
      "4. Serve immediately or store in the fridge for up to 3 days.\n",
      "\n",
      "This salad is packed with protein, fiber, healthy fats, and plenty of vitamins and minerals from the fresh vegetables and herbs.\n",
      "\n",
      "--------------------------------------------------\n",
      "\n"
     ]
    }
   ],
   "source": [
    "# Q2\n",
    "messages = [\n",
    "    {'role': 'system', 'content': 'Answer as concisely as possible.'},\n",
    "    {'role': 'user', 'content': q1},\n",
    "    {'role': 'assistant', 'content': bot_response_1},\n",
    "    {'role': 'user', 'content': q2}\n",
    "]\n",
    "\n",
    "response = openai.ChatCompletion.create(\n",
    "    model='gpt-3.5-turbo',\n",
    "    messages=messages,\n",
    "    temperature=0.7\n",
    ")\n",
    "bot_response_2 = response.choices[0]['message']['content']\n",
    "print_token_usage(response)\n",
    "print(bot_response_2)\n",
    "\n",
    "print()\n",
    "print('-' * 50)\n",
    "print()"
   ]
  },
  {
   "cell_type": "code",
   "execution_count": 7,
   "id": "d052e84d",
   "metadata": {},
   "outputs": [
    {
     "name": "stdout",
     "output_type": "stream",
     "text": [
      "·Token usage: 412 = 339 + 73 (prompt + completion)\n",
      "The number of kcal for this recipe depends on the specific quantities of ingredients used, as well as the serving size. However, as a rough estimate, a serving size of about 1.5 cups of this salad would likely contain around 350-400 kcal. This can vary based on the amount of quinoa, avocado, and nuts used in the recipe.\n"
     ]
    }
   ],
   "source": [
    "# Q3\n",
    "messages = [\n",
    "    {'role': 'system', 'content': 'Answer as concisely as possible.'},\n",
    "    {'role': 'user', 'content': q1},\n",
    "    {'role': 'assistant', 'content': bot_response_1},\n",
    "    {'role': 'user', 'content': q2},\n",
    "    {'role': 'assistant', 'content': bot_response_2},\n",
    "    {'role': 'user', 'content': q3},    \n",
    "]\n",
    "\n",
    "response = openai.ChatCompletion.create(\n",
    "    model='gpt-3.5-turbo',\n",
    "    messages=messages,\n",
    "    temperature=0.7\n",
    ")\n",
    "bot_response_3 = response.choices[0]['message']['content']\n",
    "print_token_usage(response)\n",
    "print(bot_response_3)"
   ]
  }
 ],
 "metadata": {
  "kernelspec": {
   "display_name": ".venv",
   "language": "python",
   "name": "python3"
  },
  "language_info": {
   "codemirror_mode": {
    "name": "ipython",
    "version": 3
   },
   "file_extension": ".py",
   "mimetype": "text/x-python",
   "name": "python",
   "nbconvert_exporter": "python",
   "pygments_lexer": "ipython3",
   "version": "3.11.3"
  }
 },
 "nbformat": 4,
 "nbformat_minor": 5
}
