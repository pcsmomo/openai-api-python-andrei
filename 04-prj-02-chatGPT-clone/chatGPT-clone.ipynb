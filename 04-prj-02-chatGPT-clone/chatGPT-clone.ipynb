{
 "cells": [
  {
   "cell_type": "markdown",
   "id": "4ff4e2cb",
   "metadata": {},
   "source": [
    "### OpenAI Authentication"
   ]
  },
  {
   "cell_type": "code",
   "execution_count": 1,
   "id": "11bcaba4",
   "metadata": {},
   "outputs": [],
   "source": [
    "import openai\n",
    "import os"
   ]
  },
  {
   "cell_type": "code",
   "execution_count": 2,
   "id": "94970d30",
   "metadata": {},
   "outputs": [],
   "source": [
    "openai.api_key = os.getenv('OPENAI_API_KEY')"
   ]
  },
  {
   "cell_type": "markdown",
   "id": "74ab2770",
   "metadata": {},
   "source": [
    "### import custom package and setup path for it"
   ]
  },
  {
   "cell_type": "code",
   "execution_count": 3,
   "id": "31f62190",
   "metadata": {},
   "outputs": [],
   "source": [
    "import sys\n",
    "from pathlib import Path\n",
    "\n",
    "# in jupyter (lab / notebook), based on notebook path\n",
    "\n",
    "# print(f\"Path.cwd(): {Path.cwd()}\")\n",
    "module_path = str(Path.cwd().parents[0])\n",
    "\n",
    "if module_path not in sys.path:\n",
    "    sys.path.append(module_path)\n",
    "\n",
    "from common.usage import print_token_usage"
   ]
  },
  {
   "attachments": {},
   "cell_type": "markdown",
   "id": "8b9efea1",
   "metadata": {},
   "source": [
    "### ChatGPT"
   ]
  },
  {
   "cell_type": "code",
   "execution_count": 4,
   "id": "4037bcee",
   "metadata": {},
   "outputs": [],
   "source": [
    "import time\n",
    "\n",
    "questions = list()\n",
    "bot_responses = list()\n",
    "messages = list()\n",
    "\n",
    "system_prompt = input('System prompt:')\n",
    "if system_prompt == '':\n",
    "    system_prompt = 'Answer as concisely as possible. '\n",
    "\n",
    "messages.append({\"role\": \"system\", \"content\": system_prompt})\n",
    "\n",
    "while True: \n",
    "    current_question = input('Me:')\n",
    "    \n",
    "    if current_question.lower() in ['exit', 'quit']:\n",
    "        print('Chat Bot: I was happy to assist you. Bye bye!')\n",
    "        time.sleep(2)\n",
    "        break\n",
    "\n",
    "    if current_question.lower() == '':\n",
    "        continue\n",
    "\n",
    "    messages.append({\"role\": \"user\", \"content\": current_question})\n",
    "    questions.append(current_question)\n",
    "\n",
    "    completion = openai.ChatCompletion.create(\n",
    "        model=\"gpt-3.5-turbo\",\n",
    "        messages=messages,\n",
    "        temperature=0.7 # more predictable\n",
    "#         max_tokens = 3000\n",
    "    )\n",
    "\n",
    "    current_response = completion.choices[0].message.content\n",
    "    print(f'\\nChat Bot: {current_response}')\n",
    "    bot_responses.append(current_response)\n",
    "\n",
    "    messages.append({\"role\": \"assistant\", \"content\": current_response})\n",
    "\n",
    "    print_token_usage()\n",
    "    print('\\n' + '-' * 50 + '\\n')"
   ]
  }
 ],
 "metadata": {
  "kernelspec": {
   "display_name": ".venv",
   "language": "python",
   "name": "python3"
  },
  "language_info": {
   "codemirror_mode": {
    "name": "ipython",
    "version": 3
   },
   "file_extension": ".py",
   "mimetype": "text/x-python",
   "name": "python",
   "nbconvert_exporter": "python",
   "pygments_lexer": "ipython3",
   "version": "3.11.3"
  }
 },
 "nbformat": 4,
 "nbformat_minor": 5
}
