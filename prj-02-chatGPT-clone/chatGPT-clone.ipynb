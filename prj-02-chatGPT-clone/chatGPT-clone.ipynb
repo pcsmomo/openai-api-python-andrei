{
 "cells": [
  {
   "cell_type": "markdown",
   "id": "4ff4e2cb",
   "metadata": {},
   "source": [
    "### OpenAI Authentication"
   ]
  },
  {
   "cell_type": "code",
   "execution_count": 1,
   "id": "11bcaba4",
   "metadata": {},
   "outputs": [],
   "source": [
    "import openai\n",
    "import os"
   ]
  },
  {
   "cell_type": "code",
   "execution_count": 2,
   "id": "94970d30",
   "metadata": {},
   "outputs": [],
   "source": [
    "openai.api_key = os.getenv('OPENAI_API_KEY')"
   ]
  },
  {
   "cell_type": "markdown",
   "id": "74ab2770",
   "metadata": {},
   "source": [
    "### import custom package and setup path for it"
   ]
  },
  {
   "cell_type": "code",
   "execution_count": 3,
   "id": "31f62190",
   "metadata": {},
   "outputs": [],
   "source": [
    "import sys\n",
    "from pathlib import Path\n",
    "\n",
    "# in jupyter (lab / notebook), based on notebook path\n",
    "\n",
    "# print(f\"Path.cwd(): {Path.cwd()}\")\n",
    "module_path = str(Path.cwd().parents[0])\n",
    "\n",
    "if module_path not in sys.path:\n",
    "    sys.path.append(module_path)\n",
    "\n",
    "from common.usage import print_token_usage"
   ]
  },
  {
   "attachments": {},
   "cell_type": "markdown",
   "id": "8b9efea1",
   "metadata": {},
   "source": [
    "### ChatGPT"
   ]
  },
  {
   "cell_type": "code",
   "execution_count": 4,
   "id": "4037bcee",
   "metadata": {},
   "outputs": [
    {
     "name": "stdout",
     "output_type": "stream",
     "text": [
      "System prompt: Answer as concisely as possible. \n",
      "You: Write a summary of the book \"1984\"\n",
      "\n",
      "Chat Bot: \"1984\" is a dystopian novel written by George Orwell in 1949. The story is set in a totalitarian society of the future where the ruling party, led by Big Brother, controls every aspect of people's lives. The protagonist, Winston Smith, works for the government and secretly rebels against the party's oppressive control by starting a forbidden love affair with a woman named Julia. Winston is eventually caught by the Thought Police and subjected to torture until he fully submits to the party's ideology. The novel explores themes of political control, psychological manipulation, and the power of language.\n",
      "·Token usage: 149 = 32 + 117 (prompt + completion)\n",
      "\n",
      "--------------------------------------------------\n",
      "\n",
      "You: Who wrote it?\n",
      "\n",
      "Chat Bot: \"1984\" was written by George Orwell.\n",
      "·Token usage: 173 = 163 + 10 (prompt + completion)\n",
      "\n",
      "--------------------------------------------------\n",
      "\n",
      "You: When was the book first published?\n",
      "\n",
      "Chat Bot: The book \"1984\" was first published on June 8, 1949.\n",
      "·Token usage: 208 = 190 + 18 (prompt + completion)\n",
      "\n",
      "--------------------------------------------------\n",
      "\n",
      "You: What are we talking about?\n",
      "\n",
      "Chat Bot: We are talking about the book \"1984\" written by George Orwell, which was first published in 1949.\n",
      "·Token usage: 248 = 224 + 24 (prompt + completion)\n",
      "\n",
      "--------------------------------------------------\n",
      "\n",
      "You: Write a poem about the Sun\n",
      "\n",
      "Chat Bot: The Sun, the Sun, so bright and warm,\n",
      "A golden ball that does transform\n",
      "The world around us, every day,\n",
      "With light and warmth in every way.\n",
      "\n",
      "It rises up and brings the dawn,\n",
      "A new beginning, each day born,\n",
      "And as it climbs up high above,\n",
      "It fills our hearts with hope and love.\n",
      "\n",
      "With every ray that it does send,\n",
      "It brings new life, and makes amends,\n",
      "For all the darkness of the night,\n",
      "It shines so bright, a pure delight.\n",
      "\n",
      "And as it sets, a fiery glow,\n",
      "It bids farewell, and starts to go,\n",
      "But we know it will return again,\n",
      "Tomorrow, with a brand new reign.\n",
      "\n",
      "So let us bask in its warm embrace,\n",
      "And let its light shine on our face,\n",
      "For the Sun, the Sun, is here to stay,\n",
      "And it will guide us on our way.\n",
      "·Token usage: 440 = 264 + 176 (prompt + completion)\n",
      "\n",
      "--------------------------------------------------\n",
      "\n",
      "You: Write a poem about the Sun\n",
      "\n",
      "Chat Bot: The Sun, the Sun, a ball of fire,\n",
      "In the sky, it does inspire,\n",
      "Awe and wonder, every day,\n",
      "As it lights up our earthly way.\n",
      "\n",
      "Its warmth and light, a gift to all,\n",
      "From dawn to dusk, it does enthrall,\n",
      "With every beam that it does cast,\n",
      "It brings to life, the world so vast.\n",
      "\n",
      "In fields of green, it makes plants grow,\n",
      "And in the oceans, it does bestow,\n",
      "A shimmering glow, on waves of blue,\n",
      "A sight that fills us, me and you.\n",
      "\n",
      "And when the Sun sets in the west,\n",
      "It paints the sky, with hues so blessed,\n",
      "Of orange, pink, and shades of red,\n",
      "A sight that fills our hearts with dread.\n",
      "\n",
      "For we know that when the day is done,\n",
      "And the night has just begun,\n",
      "The Sun will rest, till morning light,\n",
      "When it will rise, in all its might.\n",
      "\n",
      "So let us cherish, the Sun so bright,\n",
      "And all the beauty, in its light,\n",
      "For the Sun, the Sun, is here to stay,\n",
      "And it will guide us, on our way.\n",
      "·Token usage: 685 = 456 + 229 (prompt + completion)\n",
      "\n",
      "--------------------------------------------------\n",
      "\n",
      "You: exit\n",
      "Chat Bot: I was happy to assist you. Bye bye!\n"
     ]
    }
   ],
   "source": [
    "import time\n",
    "\n",
    "questions = list()\n",
    "bot_responses = list()\n",
    "messages = list()\n",
    "\n",
    "system_prompt = input('System prompt:')\n",
    "if system_prompt == '':\n",
    "    system_prompt = 'Answer as concisely as possible. '\n",
    "\n",
    "print(f'System prompt: {system_prompt}')\n",
    "messages.append({\"role\": \"system\", \"content\": system_prompt})\n",
    "\n",
    "while True: \n",
    "    current_question = input('Me:')\n",
    "    print(f'You: {current_question}')\n",
    "    \n",
    "    if current_question.lower() in ['exit', 'quit']:\n",
    "        print('Chat Bot: I was happy to assist you. Bye bye!')\n",
    "        time.sleep(2)\n",
    "        break\n",
    "\n",
    "    if current_question.lower() == '':\n",
    "        continue\n",
    "\n",
    "    messages.append({\"role\": \"user\", \"content\": current_question})\n",
    "    questions.append(current_question)\n",
    "\n",
    "    completion = openai.ChatCompletion.create(\n",
    "        model=\"gpt-3.5-turbo\",\n",
    "        messages=messages,\n",
    "        temperature=0.7 # more predictable\n",
    "#         max_tokens = 3000\n",
    "    )\n",
    "\n",
    "    current_response = completion.choices[0].message.content\n",
    "    print(f'\\nChat Bot: {current_response}')\n",
    "    bot_responses.append(current_response)\n",
    "\n",
    "    messages.append({\"role\": \"assistant\", \"content\": current_response})\n",
    "\n",
    "    print_token_usage(completion)\n",
    "    print('\\n' + '-' * 50 + '\\n')"
   ]
  },
  {
   "cell_type": "code",
   "execution_count": 5,
   "id": "6d3bfa9e",
   "metadata": {},
   "outputs": [
    {
     "name": "stdout",
     "output_type": "stream",
     "text": [
      "\n",
      "{'Write a summary of the book \"1984\"': '\"1984\" is a dystopian novel written by George Orwell in 1949. The story is set in a totalitarian society of the future where the ruling party, led by Big Brother, controls every aspect of people\\'s lives. The protagonist, Winston Smith, works for the government and secretly rebels against the party\\'s oppressive control by starting a forbidden love affair with a woman named Julia. Winston is eventually caught by the Thought Police and subjected to torture until he fully submits to the party\\'s ideology. The novel explores themes of political control, psychological manipulation, and the power of language.', 'Who wrote it?': '\"1984\" was written by George Orwell.', 'When was the book first published?': 'The book \"1984\" was first published on June 8, 1949.', 'What are we talking about?': 'We are talking about the book \"1984\" written by George Orwell, which was first published in 1949.', 'Write a poem about the Sun': 'The Sun, the Sun, a ball of fire,\\nIn the sky, it does inspire,\\nAwe and wonder, every day,\\nAs it lights up our earthly way.\\n\\nIts warmth and light, a gift to all,\\nFrom dawn to dusk, it does enthrall,\\nWith every beam that it does cast,\\nIt brings to life, the world so vast.\\n\\nIn fields of green, it makes plants grow,\\nAnd in the oceans, it does bestow,\\nA shimmering glow, on waves of blue,\\nA sight that fills us, me and you.\\n\\nAnd when the Sun sets in the west,\\nIt paints the sky, with hues so blessed,\\nOf orange, pink, and shades of red,\\nA sight that fills our hearts with dread.\\n\\nFor we know that when the day is done,\\nAnd the night has just begun,\\nThe Sun will rest, till morning light,\\nWhen it will rise, in all its might.\\n\\nSo let us cherish, the Sun so bright,\\nAnd all the beauty, in its light,\\nFor the Sun, the Sun, is here to stay,\\nAnd it will guide us, on our way.'}\n",
      "\n",
      "[{'role': 'system', 'content': 'Answer as concisely as possible. '}, {'role': 'user', 'content': 'Write a summary of the book \"1984\"'}, {'role': 'assistant', 'content': '\"1984\" is a dystopian novel written by George Orwell in 1949. The story is set in a totalitarian society of the future where the ruling party, led by Big Brother, controls every aspect of people\\'s lives. The protagonist, Winston Smith, works for the government and secretly rebels against the party\\'s oppressive control by starting a forbidden love affair with a woman named Julia. Winston is eventually caught by the Thought Police and subjected to torture until he fully submits to the party\\'s ideology. The novel explores themes of political control, psychological manipulation, and the power of language.'}, {'role': 'user', 'content': 'Who wrote it?'}, {'role': 'assistant', 'content': '\"1984\" was written by George Orwell.'}, {'role': 'user', 'content': 'When was the book first published?'}, {'role': 'assistant', 'content': 'The book \"1984\" was first published on June 8, 1949.'}, {'role': 'user', 'content': 'What are we talking about?'}, {'role': 'assistant', 'content': 'We are talking about the book \"1984\" written by George Orwell, which was first published in 1949.'}, {'role': 'user', 'content': 'Write a poem about the Sun'}, {'role': 'assistant', 'content': 'The Sun, the Sun, so bright and warm,\\nA golden ball that does transform\\nThe world around us, every day,\\nWith light and warmth in every way.\\n\\nIt rises up and brings the dawn,\\nA new beginning, each day born,\\nAnd as it climbs up high above,\\nIt fills our hearts with hope and love.\\n\\nWith every ray that it does send,\\nIt brings new life, and makes amends,\\nFor all the darkness of the night,\\nIt shines so bright, a pure delight.\\n\\nAnd as it sets, a fiery glow,\\nIt bids farewell, and starts to go,\\nBut we know it will return again,\\nTomorrow, with a brand new reign.\\n\\nSo let us bask in its warm embrace,\\nAnd let its light shine on our face,\\nFor the Sun, the Sun, is here to stay,\\nAnd it will guide us on our way.'}, {'role': 'user', 'content': 'Write a poem about the Sun'}, {'role': 'assistant', 'content': 'The Sun, the Sun, a ball of fire,\\nIn the sky, it does inspire,\\nAwe and wonder, every day,\\nAs it lights up our earthly way.\\n\\nIts warmth and light, a gift to all,\\nFrom dawn to dusk, it does enthrall,\\nWith every beam that it does cast,\\nIt brings to life, the world so vast.\\n\\nIn fields of green, it makes plants grow,\\nAnd in the oceans, it does bestow,\\nA shimmering glow, on waves of blue,\\nA sight that fills us, me and you.\\n\\nAnd when the Sun sets in the west,\\nIt paints the sky, with hues so blessed,\\nOf orange, pink, and shades of red,\\nA sight that fills our hearts with dread.\\n\\nFor we know that when the day is done,\\nAnd the night has just begun,\\nThe Sun will rest, till morning light,\\nWhen it will rise, in all its might.\\n\\nSo let us cherish, the Sun so bright,\\nAnd all the beauty, in its light,\\nFor the Sun, the Sun, is here to stay,\\nAnd it will guide us, on our way.'}]\n"
     ]
    }
   ],
   "source": [
    "# For debugging purposes:\n",
    "print()\n",
    "print(dict(zip(questions, bot_responses)))\n",
    "print()\n",
    "print(messages)"
   ]
  }
 ],
 "metadata": {
  "kernelspec": {
   "display_name": ".venv",
   "language": "python",
   "name": "python3"
  },
  "language_info": {
   "codemirror_mode": {
    "name": "ipython",
    "version": 3
   },
   "file_extension": ".py",
   "mimetype": "text/x-python",
   "name": "python",
   "nbconvert_exporter": "python",
   "pygments_lexer": "ipython3",
   "version": "3.11.3"
  }
 },
 "nbformat": 4,
 "nbformat_minor": 5
}
