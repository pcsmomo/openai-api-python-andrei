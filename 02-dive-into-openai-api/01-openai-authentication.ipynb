{
 "cells": [
  {
   "cell_type": "code",
   "execution_count": 1,
   "metadata": {},
   "outputs": [],
   "source": [
    "# !pip install -q openai\n",
    "import openai\n",
    "import os"
   ]
  },
  {
   "cell_type": "code",
   "execution_count": 2,
   "id": "02035b47",
   "metadata": {},
   "outputs": [],
   "source": [
    "openai.api_key = os.getenv('OPENAI_API_KEY')\n",
    "\n",
    "# Alternative 1\n",
    "# os.environ['x'] = 'abc'\n",
    "# os.getenv('x')\n",
    "# os.getenv('OPENAI_API_KEY')\n",
    "\n",
    "# Alternative 2\n",
    "# import getpass\n",
    "# key = getpass.getpass('Paste your OpenAI API key here: ')\n",
    "# openai.api_key = key\n",
    "\n",
    "# Alternative 3\n",
    "# openai.api_key = open('key.txt').read().strip('\\n')"
   ]
  }
 ],
 "metadata": {
  "kernelspec": {
   "display_name": ".venv",
   "language": "python",
   "name": "python3"
  },
  "language_info": {
   "codemirror_mode": {
    "name": "ipython",
    "version": 3
   },
   "file_extension": ".py",
   "mimetype": "text/x-python",
   "name": "python",
   "nbconvert_exporter": "python",
   "pygments_lexer": "ipython3",
   "version": "3.11.3"
  }
 },
 "nbformat": 4,
 "nbformat_minor": 5
}
