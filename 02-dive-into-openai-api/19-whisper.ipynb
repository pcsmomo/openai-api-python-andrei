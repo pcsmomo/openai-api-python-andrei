{
 "cells": [
  {
   "cell_type": "code",
   "execution_count": 1,
   "metadata": {},
   "outputs": [],
   "source": [
    "import openai\n",
    "import os"
   ]
  },
  {
   "cell_type": "code",
   "execution_count": 2,
   "id": "02035b47",
   "metadata": {},
   "outputs": [],
   "source": [
    "openai.api_key = os.getenv('OPENAI_API_KEY')"
   ]
  },
  {
   "attachments": {},
   "cell_type": "markdown",
   "id": "9b5f3a25",
   "metadata": {},
   "source": [
    "### Transcribe audio files with Whisper"
   ]
  },
  {
   "cell_type": "code",
   "execution_count": 3,
   "id": "32705839",
   "metadata": {},
   "outputs": [
    {
     "name": "stdout",
     "output_type": "stream",
     "text": [
      "{\n",
      "  \"text\": \"We welcome change and openness, for we believe that freedom and security go together. That the advance of human liberty can only strengthen the cause of world peace. There is one sign the Soviets can make that would be unmistakable, that would advance dramatically the cause of freedom and peace. General Secretary Gorbachev, if you seek peace, if you seek prosperity for the Soviet Union and Eastern Europe, if you seek liberalization, come here to this gate. Mr. Gorbachev, open this gate. Mr. Gorbachev, Mr. Gorbachev, tear down this wall.\"\n",
      "}\n"
     ]
    }
   ],
   "source": [
    "audio_file = './audios/rr.mp3'\n",
    "with open(audio_file, 'rb') as audio_file:\n",
    "    transcript = openai.Audio.transcribe('whisper-1', audio_file)\n",
    "    print(transcript)"
   ]
  },
  {
   "cell_type": "code",
   "execution_count": 5,
   "id": "c99a3214",
   "metadata": {},
   "outputs": [
    {
     "name": "stdout",
     "output_type": "stream",
     "text": [
      "Saving transcript to rr.txt ... Ok\n"
     ]
    }
   ],
   "source": [
    "# Saving the transcript to a file\n",
    "audio_file = 'rr.mp3'\n",
    "name, extension = os.path.splitext(audio_file)\n",
    "transcript_filename = f'{name}.txt'\n",
    "with open(transcript_filename, 'w') as f:\n",
    "    print(f'Saving transcript to {transcript_filename} ... ', end='')\n",
    "    f.write(transcript['text'])\n",
    "    print('Ok')"
   ]
  },
  {
   "cell_type": "markdown",
   "id": "a152d6f9",
   "metadata": {},
   "source": [
    "### Making Translations with Whisper"
   ]
  },
  {
   "cell_type": "code",
   "execution_count": 6,
   "id": "8c0dcb25",
   "metadata": {},
   "outputs": [
    {
     "name": "stdout",
     "output_type": "stream",
     "text": [
      "Hello? Great, dad! It's really great here, with the lions. But this lion here, your BQ, is not here. He's probably sleeping inside, right? Not today. Because today the lion is not inside, but... ...not here at all. But? At the doctor's. Once a year he's examined, vaccinated, something like that. I understand. But now tell me, how was school? Good. The bandage on your forehead. Where? At the school yard? Doesn't matter. Really, dad. Doesn't matter. No, it doesn't matter. They said things about you.\n"
     ]
    }
   ],
   "source": [
    "audio_file = open('./audios/german.mp3', 'rb')\n",
    "transcript = openai.Audio.translate('whisper-1', audio_file)\n",
    "print(transcript['text'])\n",
    "audio_file.close()"
   ]
  }
 ],
 "metadata": {
  "kernelspec": {
   "display_name": ".venv",
   "language": "python",
   "name": "python3"
  },
  "language_info": {
   "codemirror_mode": {
    "name": "ipython",
    "version": 3
   },
   "file_extension": ".py",
   "mimetype": "text/x-python",
   "name": "python",
   "nbconvert_exporter": "python",
   "pygments_lexer": "ipython3",
   "version": "3.11.3"
  }
 },
 "nbformat": 4,
 "nbformat_minor": 5
}
