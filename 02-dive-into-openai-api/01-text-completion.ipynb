{
 "cells": [
  {
   "cell_type": "code",
   "execution_count": 1,
   "metadata": {},
   "outputs": [],
   "source": [
    "# !pip install -q openai\n",
    "import openai\n",
    "import os"
   ]
  },
  {
   "cell_type": "code",
   "execution_count": 2,
   "id": "02035b47",
   "metadata": {},
   "outputs": [],
   "source": [
    "openai.api_key = os.getenv('OPENAI_API_KEY')\n",
    "\n",
    "# Alternative 1\n",
    "# os.environ['x'] = 'abc'\n",
    "# os.getenv('x')\n",
    "# os.getenv('OPENAI_API_KEY')\n",
    "\n",
    "# Alternative 2\n",
    "# import getpass\n",
    "# key = getpass.getpass('Paste your OpenAI API key here: ')\n",
    "# openai.api_key = key\n",
    "\n",
    "# Alternative 3\n",
    "# openai.api_key = open('key.txt').read().strip('\\n')"
   ]
  },
  {
   "cell_type": "code",
   "execution_count": 3,
   "id": "2ad2f6fb",
   "metadata": {},
   "outputs": [],
   "source": [
    "prompt = 'Write a motto for a football team.'\n",
    "response = openai.Completion.create(\n",
    "    # model='davinci',\n",
    "    model='text-davinci-003',\n",
    "    prompt=prompt,\n",
    "    temperature=0.8,\n",
    "    max_tokens=1000,\n",
    ")"
   ]
  },
  {
   "cell_type": "code",
   "execution_count": 4,
   "id": "7d1d954c",
   "metadata": {},
   "outputs": [
    {
     "name": "stdout",
     "output_type": "stream",
     "text": [
      "{\n",
      "  \"choices\": [\n",
      "    {\n",
      "      \"finish_reason\": \"stop\",\n",
      "      \"index\": 0,\n",
      "      \"logprobs\": null,\n",
      "      \"text\": \"\\n\\n\\\"Winning is a Team Effort!\\\"\"\n",
      "    }\n",
      "  ],\n",
      "  \"created\": 1682283948,\n",
      "  \"id\": \"cmpl-78bC0m6HI1tgap4r6w55GL1iMVbpR\",\n",
      "  \"model\": \"text-davinci-003\",\n",
      "  \"object\": \"text_completion\",\n",
      "  \"usage\": {\n",
      "    \"completion_tokens\": 11,\n",
      "    \"prompt_tokens\": 8,\n",
      "    \"total_tokens\": 19\n",
      "  }\n",
      "}\n"
     ]
    }
   ],
   "source": [
    "print(response)"
   ]
  },
  {
   "cell_type": "code",
   "execution_count": 5,
   "id": "5302fb06",
   "metadata": {},
   "outputs": [
    {
     "name": "stdout",
     "output_type": "stream",
     "text": [
      "\n",
      "\n",
      "\"Winning is a Team Effort!\"\n"
     ]
    }
   ],
   "source": [
    "r = response['choices'][0]['text']\n",
    "print(r)"
   ]
  }
 ],
 "metadata": {
  "kernelspec": {
   "display_name": ".venv",
   "language": "python",
   "name": "python3"
  },
  "language_info": {
   "codemirror_mode": {
    "name": "ipython",
    "version": 3
   },
   "file_extension": ".py",
   "mimetype": "text/x-python",
   "name": "python",
   "nbconvert_exporter": "python",
   "pygments_lexer": "ipython3",
   "version": "3.11.3"
  }
 },
 "nbformat": 4,
 "nbformat_minor": 5
}
