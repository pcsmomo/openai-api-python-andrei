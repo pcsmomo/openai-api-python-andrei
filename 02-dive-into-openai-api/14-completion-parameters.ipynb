{
 "cells": [
  {
   "cell_type": "code",
   "execution_count": 1,
   "id": "8813809f",
   "metadata": {},
   "outputs": [],
   "source": [
    "import openai\n",
    "import os"
   ]
  },
  {
   "cell_type": "code",
   "execution_count": 2,
   "id": "02035b47",
   "metadata": {},
   "outputs": [],
   "source": [
    "openai.api_key = os.getenv('OPENAI_API_KEY')"
   ]
  },
  {
   "attachments": {},
   "cell_type": "markdown",
   "id": "b495f478",
   "metadata": {},
   "source": [
    "## Chat Completion Parameters\n",
    "\n",
    "- [Chat Completion Parameters Documentation](https://platform.openai.com/docs/api-reference/chat/create#chat/create-max_tokens)"
   ]
  },
  {
   "attachments": {},
   "cell_type": "markdown",
   "id": "ecd97a4e",
   "metadata": {},
   "source": [
    "### 1. temperature\n",
    "\n",
    "The temperature (between 0 and 2, default 1) is a parameter that controls how much randomness is in the output.\n",
    "\n",
    "The higher the temperature, the more random and creative the answer will be.\n",
    "A higher value too high will make the answer more creative, it will vary with each call, but the model can also hallucinate."
   ]
  },
  {
   "cell_type": "code",
   "execution_count": 3,
   "id": "ddeb7e85",
   "metadata": {},
   "outputs": [],
   "source": [
    "messages = [\n",
    "    {'role': 'system', 'content': 'You are a good and smart assistant.'},\n",
    "    {'role': 'user', 'content': 'Who won the FIFA World Cup in 1990? \\n What was the final score?'}\n",
    "]\n",
    "\n",
    "response = openai.ChatCompletion.create(\n",
    "    model=\"gpt-3.5-turbo\",\n",
    "    messages=messages,\n",
    "    temperature=0.2, # between 0 and 2, default 1\n",
    ")"
   ]
  },
  {
   "cell_type": "code",
   "execution_count": 4,
   "id": "4bb0b103",
   "metadata": {},
   "outputs": [
    {
     "name": "stdout",
     "output_type": "stream",
     "text": [
      "The FIFA World Cup in 1990 was won by West Germany (now Germany). They defeated Argentina 1-0 in the final match. The only goal of the match was scored by Andreas Brehme from a penalty kick in the 85th minute.\n"
     ]
    }
   ],
   "source": [
    "print(response['choices'][0]['message']['content'])"
   ]
  },
  {
   "cell_type": "code",
   "execution_count": 5,
   "id": "1522f602",
   "metadata": {},
   "outputs": [
    {
     "name": "stdout",
     "output_type": "stream",
     "text": [
      "{\n",
      "  \"completion_tokens\": 53,\n",
      "  \"prompt_tokens\": 39,\n",
      "  \"total_tokens\": 92\n",
      "}\n"
     ]
    }
   ],
   "source": [
    "print(response['usage'])"
   ]
  },
  {
   "cell_type": "code",
   "execution_count": 6,
   "id": "d8652d44",
   "metadata": {},
   "outputs": [],
   "source": [
    "messages = [\n",
    "    {'role': 'system', 'content': 'You are a good and smart assistant.'},\n",
    "    {'role': 'user', 'content': 'Who won the FIFA World Cup in 1990? \\n What was the final score?'}\n",
    "]\n",
    "\n",
    "response = openai.ChatCompletion.create(\n",
    "    model=\"gpt-3.5-turbo\",\n",
    "    messages=messages,\n",
    "    temperature=1.2, # between 0 and 2, default 1\n",
    ")"
   ]
  },
  {
   "cell_type": "code",
   "execution_count": 7,
   "id": "88b1c9fd",
   "metadata": {},
   "outputs": [
    {
     "name": "stdout",
     "output_type": "stream",
     "text": [
      "The FIFA World Cup in 1990 was won by Germany (West Germany at the time). The final took place on July 8, 1990, and Germany defeated Argentina 1-0 at the Stadio Olimpico in Rome, Italy. The only goal of the match was scored by Andreas Brehme of Germany through a penalty kick in the 85th minute.\n",
      "{\n",
      "  \"completion_tokens\": 79,\n",
      "  \"prompt_tokens\": 39,\n",
      "  \"total_tokens\": 118\n",
      "}\n"
     ]
    }
   ],
   "source": [
    "print(response['choices'][0]['message']['content'])\n",
    "print(response['usage'])"
   ]
  },
  {
   "attachments": {},
   "cell_type": "markdown",
   "id": "9ebc6c71",
   "metadata": {},
   "source": [
    "### 2. top_p\n",
    "**top_p_** aka **nucleus sampling** is an alternative to temperature.\n",
    "\n",
    "Defaults to 1\n",
    "\n",
    "The model considers the results of the tokens with _top_p_ probability mass. So 1.0 means \"use all tokens in the vocabulary\" and 0.1 means only the tokens comprising the top 10% probability mass are considered.\n",
    "\n",
    "**It's generally recommended to alter either top_p or temperature but not both.**"
   ]
  },
  {
   "cell_type": "code",
   "execution_count": 8,
   "id": "77d7fb5b",
   "metadata": {},
   "outputs": [
    {
     "name": "stdout",
     "output_type": "stream",
     "text": [
      "1984 by George Orwell is a haunting and thought-provoking novel that explores the dangers of totalitarianism and the importance of individual freedom.\n",
      "{\n",
      "  \"completion_tokens\": 28,\n",
      "  \"prompt_tokens\": 33,\n",
      "  \"total_tokens\": 61\n",
      "}\n"
     ]
    }
   ],
   "source": [
    "messages = [\n",
    "    {'role': 'system', 'content': 'You are a good and smart assistant.'},\n",
    "    {'role': 'user', 'content': 'Write one sentence review of 1984 by George Orwell.'}\n",
    "]\n",
    "\n",
    "response = openai.ChatCompletion.create(\n",
    "    model=\"gpt-3.5-turbo\",\n",
    "    messages=messages,\n",
    "    temperature=1, # between 0 and 2, default 1\n",
    "    top_p=0.1\n",
    ")\n",
    "\n",
    "print(response['choices'][0]['message']['content'])\n",
    "print(response['usage'])"
   ]
  },
  {
   "attachments": {},
   "cell_type": "markdown",
   "id": "8bba919b",
   "metadata": {},
   "source": []
  },
  {
   "cell_type": "code",
   "execution_count": 9,
   "id": "ca0c6036",
   "metadata": {},
   "outputs": [
    {
     "name": "stdout",
     "output_type": "stream",
     "text": [
      "\"1984\" by George Orwell is a thought-provoking and chilling portrayal of a totalitarian society, serving as a warning against the dangers of state control and suppression of free thought.\n",
      "33 + 37 = 70\n"
     ]
    }
   ],
   "source": [
    "messages = [\n",
    "    {'role': 'system', 'content': 'You are a good and smart assistant.'},\n",
    "    {'role': 'user', 'content': 'Write one sentence review of 1984 by George Orwell.'}\n",
    "]\n",
    "\n",
    "response = openai.ChatCompletion.create(\n",
    "    model=\"gpt-3.5-turbo\",\n",
    "    messages=messages,\n",
    "    temperature=1, # between 0 and 2, default 1\n",
    "    top_p=1\n",
    ")\n",
    "\n",
    "print(response['choices'][0]['message']['content'])\n",
    "print(f\"{response['usage']['prompt_tokens']} + {response['usage']['completion_tokens']} = {response['usage']['total_tokens']}\")"
   ]
  },
  {
   "attachments": {},
   "cell_type": "markdown",
   "id": "a4644436",
   "metadata": {},
   "source": [
    "### 3. max_tokens\n",
    "Defaults to inf\n",
    "\n",
    "The completion tokens from the response object or the maximum number of tokens allowed for the generated answer. "
   ]
  },
  {
   "attachments": {},
   "cell_type": "markdown",
   "id": "a2c96568",
   "metadata": {},
   "source": [
    "### 4. n\n",
    "Defaults to 1\n",
    "\n",
    "How many completions to generate for each prompt."
   ]
  },
  {
   "cell_type": "code",
   "execution_count": 10,
   "id": "d698893a",
   "metadata": {},
   "outputs": [
    {
     "name": "stdout",
     "output_type": "stream",
     "text": [
      "{\n",
      "  \"choices\": [\n",
      "    {\n",
      "      \"finish_reason\": \"stop\",\n",
      "      \"index\": 0,\n",
      "      \"message\": {\n",
      "        \"content\": \"\\\"Small pleasures, big impact - one cup at a time\\\"\",\n",
      "        \"role\": \"assistant\"\n",
      "      }\n",
      "    },\n",
      "    {\n",
      "      \"finish_reason\": \"stop\",\n",
      "      \"index\": 1,\n",
      "      \"message\": {\n",
      "        \"content\": \"\\\"Every cup tells a story that brings us together.\\\"\",\n",
      "        \"role\": \"assistant\"\n",
      "      }\n",
      "    }\n",
      "  ],\n",
      "  \"created\": 1682287184,\n",
      "  \"id\": \"chatcmpl-78c2CPnR0k4c5YKevi2hWdiNuprXV\",\n",
      "  \"model\": \"gpt-3.5-turbo-0301\",\n",
      "  \"object\": \"chat.completion\",\n",
      "  \"usage\": {\n",
      "    \"completion_tokens\": 24,\n",
      "    \"prompt_tokens\": 29,\n",
      "    \"total_tokens\": 53\n",
      "  }\n",
      "}\n",
      "\"Small pleasures, big impact - one cup at a time\"\n",
      "\"Every cup tells a story that brings us together.\"\n",
      "29 + 24 = 53\n"
     ]
    }
   ],
   "source": [
    "messages = [\n",
    "    {'role': 'system', 'content': 'You are a good and smart assistant.'},\n",
    "    {'role': 'user', 'content': 'Give a motto for a cafe in Melbourne'}\n",
    "]\n",
    "\n",
    "response = openai.ChatCompletion.create(\n",
    "    model=\"gpt-3.5-turbo\",\n",
    "    messages=messages,\n",
    "    temperature=1.5, # between 0 and 2, default 1\n",
    "    top_p=1,\n",
    "    max_tokens=256,\n",
    "    n=2\n",
    ")\n",
    "\n",
    "print(response)\n",
    "print(response['choices'][0]['message']['content'])\n",
    "print(response['choices'][1]['message']['content'])\n",
    "print(f\"{response['usage']['prompt_tokens']} + {response['usage']['completion_tokens']} = {response['usage']['total_tokens']}\")\n",
    "\n",
    "# \"Experience Melbourne's standout taste\"\n",
    "# \"Where every cup tells a story.\"\n",
    "# \"Small pleasures, big impact - one cup at a time\"\n",
    "# \"Every cup tells a story that brings us together.\""
   ]
  },
  {
   "attachments": {},
   "cell_type": "markdown",
   "id": "0ee7f441",
   "metadata": {},
   "source": [
    "### 5. stop\n",
    "Defaults to null\n",
    "\n",
    "Up to 4 sequences where the API will stop generating further tokens."
   ]
  },
  {
   "cell_type": "code",
   "execution_count": 11,
   "id": "947295f4",
   "metadata": {},
   "outputs": [
    {
     "name": "stdout",
     "output_type": "stream",
     "text": [
      "Sure, here's an example SELECT SQL query:\n",
      "\n",
      "```\n",
      "SELECT first_name, last_name, date_of_birth FROM users WHERE age > 21 ORDER BY last_name ASC;\n",
      "```\n",
      "\n",
      "This query selects the `first_name`, `last_name`, and `date_of_birth` columns from the `users` table, but only for those who have an age greater than 21. The results will be ordered in ascending order by last name.\n",
      "30 + 88 = 118\n"
     ]
    }
   ],
   "source": [
    "messages = [\n",
    "    {'role': 'system', 'content': 'You are a good and smart assistant.'},\n",
    "    {'role': 'user', 'content': 'Write an example of a SELECT SQL query.'}\n",
    "]\n",
    "\n",
    "response = openai.ChatCompletion.create(\n",
    "    model=\"gpt-3.5-turbo\",\n",
    "    messages=messages,\n",
    "    temperature=1.5, # between 0 and 2, default 1\n",
    "    top_p=1,\n",
    "    max_tokens=256,\n",
    "    n=1\n",
    ")\n",
    "\n",
    "print(response['choices'][0]['message']['content'])\n",
    "print(f\"{response['usage']['prompt_tokens']} + {response['usage']['completion_tokens']} = {response['usage']['total_tokens']}\")"
   ]
  },
  {
   "cell_type": "code",
   "execution_count": 12,
   "id": "3662a287",
   "metadata": {},
   "outputs": [
    {
     "name": "stdout",
     "output_type": "stream",
     "text": [
      "Here is an example of a SELECT SQL query that retrieves specific data from a table:\n",
      "\n",
      "SELECT column1, column2 FROM table_name WHERE conditions\n",
      "30 + 28 = 58\n"
     ]
    }
   ],
   "source": [
    "messages = [\n",
    "    {'role': 'system', 'content': 'You are a good and smart assistant.'},\n",
    "    {'role': 'user', 'content': 'Write an example of a SELECT SQL query.'}\n",
    "]\n",
    "\n",
    "response = openai.ChatCompletion.create(\n",
    "    model=\"gpt-3.5-turbo\",\n",
    "    messages=messages,\n",
    "    temperature=1.5, # between 0 and 2, default 1\n",
    "    top_p=1,\n",
    "    max_tokens=256,\n",
    "    n=1,\n",
    "    stop=';',\n",
    "    # stop=[';', '*'],\n",
    ")\n",
    "\n",
    "print(response['choices'][0]['message']['content'])\n",
    "print(f\"{response['usage']['prompt_tokens']} + {response['usage']['completion_tokens']} = {response['usage']['total_tokens']}\")"
   ]
  },
  {
   "attachments": {},
   "cell_type": "markdown",
   "id": "186a9803",
   "metadata": {},
   "source": [
    "### 6. frequency_penalty\n",
    "Number between -2.0 and 2.0 (default 0).\n",
    "\n",
    "Positive values penalize new tokens based on their existing frequency in the text so far, decreasing the model's likelihood to repeat the same line verbatim.\n"
   ]
  },
  {
   "cell_type": "code",
   "execution_count": 13,
   "id": "fb6419ce",
   "metadata": {},
   "outputs": [
    {
     "name": "stdout",
     "output_type": "stream",
     "text": [
      "Coffee is a popular and beloved beverage enjoyed by people all around the world. It is a brewed drink that is made from roasted coffee beans, and it can be enjoyed hot or cold, with or without milk, and with various flavors and sweeteners.\n",
      "\n",
      "Aside from its delicious taste, coffee is also known for its stimulating effect due to its high caffeine content. Caffeine is a natural substance that can enhance mood, improve mental focus and alertness, and even boost physical performance. However, it is important to consume coffee in moderation as excessive intake can lead to negative side effects such as jitteriness and insomnia.\n",
      "\n",
      "Furthermore, there are various health benefits associated with coffee consumption. Coffee is rich in antioxidants which can help protect against cell damage caused by free radicals in the body. Studies have also shown that regular coffee consumption may lower the risk of developing type 2 diabetes, liver diseases, and even some types of cancer.\n",
      "\n",
      "Coffee culture is also a global phenomenon, with coffee shops and cafes serving as popular meeting spots for friends, colleagues, and even first dates. The art of coffee brewing and latte art has also gained popularity in recent years, creating a new form of art that is both beautiful and delicious.\n",
      "\n",
      "In conclusion, coffee is more than just a beverage. It is a cultural icon, a source of energy and health benefits, and a delicious indulgence that brings people together. So next time you enjoy a cup of coffee, savor its unique flavor and take a moment to appreciate all the positive aspects it brings to your life.\n",
      "28 + 307 = 335\n"
     ]
    }
   ],
   "source": [
    "messages = [\n",
    "    {'role': 'system', 'content': 'You are a good and smart assistant.'},\n",
    "    {'role': 'user', 'content': 'Write a short article about coffee.'}\n",
    "]\n",
    "\n",
    "response = openai.ChatCompletion.create(\n",
    "    model=\"gpt-3.5-turbo\",\n",
    "    messages=messages,\n",
    "    temperature=1, # between 0 and 2, default 1\n",
    "    top_p=1,\n",
    "    max_tokens=1000,\n",
    "    n=1\n",
    ")\n",
    "\n",
    "print(response['choices'][0]['message']['content'])\n",
    "print(f\"{response['usage']['prompt_tokens']} + {response['usage']['completion_tokens']} = {response['usage']['total_tokens']}\")"
   ]
  },
  {
   "cell_type": "code",
   "execution_count": 14,
   "id": "03e192cd",
   "metadata": {},
   "outputs": [
    {
     "name": "stdout",
     "output_type": "stream",
     "text": [
      "Coffee is one of the most popular beverages in the world, with a rich history dating back centuries. This beloved drink is consumed by individuals from various cultures worldwide, with a wide range of variations, from strong, rich, and robust, to mild, sweet, and creamy, to satisfy every taste, mood, and occasion, and, of course,,,,,,,,,,,,,,,,,,,,,,,,,,,,,,,,,,,,,,,,,,,,,,,,,,,,,,,,,,,,,,,,,,,,,,,,,,,,,,,,,,,,,,,,,,,,,,,,,,,,,,,,,,,,,,,,,,,,,,,,,,,,,,,,,,,,,,,,,,,,,,,,,,,,,,,,,,,,,,,,,,,,,,,,,,,,,,,,,,,,,,,,,,,\n",
      "28 + 256 = 284\n"
     ]
    }
   ],
   "source": [
    "messages = [\n",
    "    {'role': 'system', 'content': 'You are a good and smart assistant.'},\n",
    "    {'role': 'user', 'content': 'Write a short article about coffee.'}\n",
    "]\n",
    "\n",
    "response = openai.ChatCompletion.create(\n",
    "    model=\"gpt-3.5-turbo\",\n",
    "    messages=messages,\n",
    "    temperature=1, # between 0 and 2, default 1\n",
    "    top_p=1,\n",
    "    max_tokens=256,\n",
    "    n=1,\n",
    "    frequency_penalty=-1,\n",
    ")\n",
    "\n",
    "print(response['choices'][0]['message']['content'])\n",
    "print(f\"{response['usage']['prompt_tokens']} + {response['usage']['completion_tokens']} = {response['usage']['total_tokens']}\")"
   ]
  },
  {
   "attachments": {},
   "cell_type": "markdown",
   "id": "8ac601f9",
   "metadata": {},
   "source": [
    "### 7. presence_penalty\n",
    "Number between -2.0 and 2.0 (default 0).\n",
    "\n",
    "Positive values penalize new tokens based on whether they appear in the text so far, increasing the model's likelihood to talk about new topics."
   ]
  }
 ],
 "metadata": {
  "kernelspec": {
   "display_name": ".venv",
   "language": "python",
   "name": "python3"
  },
  "language_info": {
   "codemirror_mode": {
    "name": "ipython",
    "version": 3
   },
   "file_extension": ".py",
   "mimetype": "text/x-python",
   "name": "python",
   "nbconvert_exporter": "python",
   "pygments_lexer": "ipython3",
   "version": "3.11.3"
  }
 },
 "nbformat": 4,
 "nbformat_minor": 5
}
