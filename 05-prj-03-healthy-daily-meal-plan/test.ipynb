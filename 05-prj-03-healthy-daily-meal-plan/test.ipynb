{
 "cells": [
  {
   "cell_type": "code",
   "execution_count": 5,
   "id": "1c8f44d4",
   "metadata": {},
   "outputs": [
    {
     "name": "stdout",
     "output_type": "stream",
     "text": [
      "Titles: Broccoli Egg Scramble, Cabbage Chicken Salad, Baked Fish with Steamed Vegetables.\n",
      "[' Broccoli Egg Scramble', ' Cabbage Chicken Salad', ' Baked Fish with Steamed Vegetables.']\n"
     ]
    }
   ],
   "source": [
    "recipe = '''\n",
    "Instructions:\n",
    "1. Heat olive oil in a nonstick skillet over medium heat.\n",
    "2. Add broccoli florets and sauté for 2-3 minutes.\n",
    "3. Beat 2 eggs and pour them over the broccoli.\n",
    "4. Scramble until the eggs are cooked through.\n",
    "5. Add salt and pepper to taste.\n",
    "\n",
    "Title: Broccoli Egg Scramble \n",
    "\n",
    "Lunch: Cabbage and Chicken Salad \n",
    "\n",
    "Ingredients: \n",
    "- 2 cups shredded cabbage \n",
    "- 4 oz cooked chicken \n",
    "- 1 cup mixed vegetables \n",
    "- 2 tablespoons olive oil \n",
    "\n",
    "Title: Baked Fish with Steamed Vegetables \n",
    "\n",
    "Titles: Broccoli Egg Scramble, Cabbage Chicken Salad, Baked Fish with Steamed Vegetables.\n",
    "'''\n",
    "\n",
    "titleLine = recipe.splitlines()[-1]\n",
    "print(titleLine)\n",
    "titles = titleLine.split(\":\")[1].split(\",\")\n",
    "print(titles)\n"
   ]
  },
  {
   "cell_type": "code",
   "execution_count": 9,
   "id": "30b012eb",
   "metadata": {},
   "outputs": [
    {
     "name": "stdout",
     "output_type": "stream",
     "text": [
      "['Broccoli Egg Scramble', 'Cabbage Chicken Salad', 'Baked Fish with Steamed Vegetables']\n"
     ]
    }
   ],
   "source": [
    "titles = [t.strip().strip('.') for t in titles]\n",
    "print(titles)"
   ]
  }
 ],
 "metadata": {
  "kernelspec": {
   "display_name": ".venv",
   "language": "python",
   "name": "python3"
  },
  "language_info": {
   "codemirror_mode": {
    "name": "ipython",
    "version": 3
   },
   "file_extension": ".py",
   "mimetype": "text/x-python",
   "name": "python",
   "nbconvert_exporter": "python",
   "pygments_lexer": "ipython3",
   "version": "3.11.3"
  }
 },
 "nbformat": 4,
 "nbformat_minor": 5
}
