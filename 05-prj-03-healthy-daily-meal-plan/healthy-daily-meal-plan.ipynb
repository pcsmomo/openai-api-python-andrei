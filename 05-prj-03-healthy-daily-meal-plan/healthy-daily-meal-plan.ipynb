{
 "cells": [
  {
   "cell_type": "markdown",
   "id": "4ff4e2cb",
   "metadata": {},
   "source": [
    "### OpenAI Authentication"
   ]
  },
  {
   "cell_type": "code",
   "execution_count": 1,
   "id": "11bcaba4",
   "metadata": {},
   "outputs": [],
   "source": [
    "import openai\n",
    "import os"
   ]
  },
  {
   "cell_type": "code",
   "execution_count": 2,
   "id": "94970d30",
   "metadata": {},
   "outputs": [],
   "source": [
    "openai.api_key = os.getenv('OPENAI_API_KEY')"
   ]
  },
  {
   "cell_type": "markdown",
   "id": "74ab2770",
   "metadata": {},
   "source": [
    "### import custom package and setup path for it"
   ]
  },
  {
   "cell_type": "code",
   "execution_count": 3,
   "id": "31f62190",
   "metadata": {},
   "outputs": [],
   "source": [
    "import sys\n",
    "from pathlib import Path\n",
    "\n",
    "# in jupyter (lab / notebook), based on notebook path\n",
    "\n",
    "# print(f\"Path.cwd(): {Path.cwd()}\")\n",
    "module_path = str(Path.cwd().parents[0])\n",
    "\n",
    "if module_path not in sys.path:\n",
    "    sys.path.append(module_path)\n",
    "\n",
    "from common.usage import print_token_usage"
   ]
  },
  {
   "cell_type": "markdown",
   "id": "af3c4b12",
   "metadata": {},
   "source": [
    "### Generate the meal plan based on a list of ingredients "
   ]
  },
  {
   "cell_type": "code",
   "execution_count": 4,
   "id": "1a697b70",
   "metadata": {},
   "outputs": [
    {
     "name": "stdout",
     "output_type": "stream",
     "text": [
      "·Token usage: 529 = 100 + 429 (prompt + completion)\n",
      "Breakfast: Broccoli and Egg Scramble\n",
      "\n",
      "Ingredients:\n",
      "- 1 cup broccoli florets\n",
      "- 2 eggs\n",
      "- 1 teaspoon olive oil\n",
      "- Salt and pepper to taste\n",
      "\n",
      "Instructions:\n",
      "1. Heat olive oil in a nonstick skillet over medium heat.\n",
      "2. Add broccoli florets and sauté for 2-3 minutes.\n",
      "3. Beat 2 eggs and pour them over the broccoli.\n",
      "4. Scramble until the eggs are cooked through.\n",
      "5. Add salt and pepper to taste.\n",
      "\n",
      "Title: Broccoli Egg Scramble \n",
      "\n",
      "Lunch: Cabbage and Chicken Salad \n",
      "\n",
      "Ingredients: \n",
      "- 2 cups shredded cabbage \n",
      "- 4 oz cooked chicken \n",
      "- 1 cup mixed vegetables \n",
      "- 2 tablespoons olive oil \n",
      "- 1 tablespoon vinegar \n",
      "- Salt and pepper to taste \n",
      "\n",
      "Instructions: \n",
      "1. In a bowl, mix together the shredded cabbage and mixed vegetables. \n",
      "2. Add cooked chicken and toss to mix. \n",
      "3. In a small bowl, whisk together olive oil, vinegar, salt and pepper. \n",
      "4. Pour the dressing over the salad and toss again until everything is coated. \n",
      "\n",
      "Title: Cabbage Chicken Salad \n",
      "\n",
      "Dinner: Baked Fish with Steamed Vegetables \n",
      "\n",
      "Ingredients: \n",
      "- 4 oz fish fillet \n",
      "- 2 cups mixed vegetables (such as carrots, broccoli, cauliflower) \n",
      "- 2 teaspoons olive oil \n",
      "- Salt and pepper to taste \n",
      "\n",
      "Instructions: \n",
      "1. Preheat the oven to 375°F. \n",
      "2. Brush the fish fillet with olive oil and season with salt and pepper. \n",
      "3. Place the fish on a baking sheet and bake for 20-25 minutes or until cooked through. \n",
      "4. While the fish is baking, steam the mixed vegetables for 5-7 minutes until just tender. \n",
      "5. Drizzle the steamed vegetables with a little olive oil and serve with the baked fish. \n",
      "\n",
      "Title: Baked Fish with Steamed Vegetables \n",
      "\n",
      "Titles: Broccoli Egg Scramble, Cabbage Chicken Salad, Baked Fish with Steamed Vegetables.\n"
     ]
    }
   ],
   "source": [
    "def create_meals(ingredients, kcal=2000):\n",
    "    prompt = f'''Create a healthy daily meal plan for breakfast, lunch and dinner based on\n",
    "    the following ingredients {ingredients}.\n",
    "    Explain each recipe.\n",
    "    The total daily intake of kcal should be below {kcal}.\n",
    "    Assign a suggestive and concise title to each meal.\n",
    "    Your answer should end with 'Titles: ' and the title of each recipe.'''\n",
    "\n",
    "    messages = [\n",
    "        {'role': 'system', 'content': 'You are a talented cook.'},\n",
    "        {'role': 'user', 'content': prompt}\n",
    "    ]\n",
    "\n",
    "    response = openai.ChatCompletion.create(\n",
    "        model='gpt-3.5-turbo',\n",
    "        messages=messages,\n",
    "        temperature=1,\n",
    "        max_tokens = 1024,\n",
    "        n=1\n",
    "    )\n",
    "    print_token_usage(response)\n",
    "    return response['choices'][0].message.content\n",
    "\n",
    "foods = 'broccoli, chicken, fish, vegetables, cabbage, eggs, olive oil'\n",
    "output = create_meals(foods)\n",
    "print(output)"
   ]
  }
 ],
 "metadata": {
  "kernelspec": {
   "display_name": ".venv",
   "language": "python",
   "name": "python3"
  },
  "language_info": {
   "codemirror_mode": {
    "name": "ipython",
    "version": 3
   },
   "file_extension": ".py",
   "mimetype": "text/x-python",
   "name": "python",
   "nbconvert_exporter": "python",
   "pygments_lexer": "ipython3",
   "version": "3.11.3"
  }
 },
 "nbformat": 4,
 "nbformat_minor": 5
}
