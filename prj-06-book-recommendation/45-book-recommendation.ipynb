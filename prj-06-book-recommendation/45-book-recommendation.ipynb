{
 "cells": [
  {
   "attachments": {},
   "cell_type": "markdown",
   "id": "4ff4e2cb",
   "metadata": {},
   "source": [
    "### OpenAI Authentication"
   ]
  },
  {
   "cell_type": "code",
   "execution_count": 2,
   "id": "11bcaba4",
   "metadata": {},
   "outputs": [],
   "source": [
    "import openai\n",
    "import os"
   ]
  },
  {
   "cell_type": "code",
   "execution_count": 3,
   "id": "94970d30",
   "metadata": {},
   "outputs": [],
   "source": [
    "openai.api_key = os.getenv('OPENAI_API_KEY')"
   ]
  },
  {
   "cell_type": "code",
   "execution_count": 4,
   "id": "832c8c00",
   "metadata": {},
   "outputs": [],
   "source": [
    "import pandas as pd\n",
    "import numpy as np"
   ]
  },
  {
   "attachments": {},
   "cell_type": "markdown",
   "id": "5c1a82c6",
   "metadata": {},
   "source": [
    "### 1. Loading the Dataset into a Pandas DataFrame"
   ]
  },
  {
   "cell_type": "code",
   "execution_count": 12,
   "id": "736fd842",
   "metadata": {},
   "outputs": [
    {
     "data": {
      "text/html": [
       "<div>\n",
       "<style scoped>\n",
       "    .dataframe tbody tr th:only-of-type {\n",
       "        vertical-align: middle;\n",
       "    }\n",
       "\n",
       "    .dataframe tbody tr th {\n",
       "        vertical-align: top;\n",
       "    }\n",
       "\n",
       "    .dataframe thead th {\n",
       "        text-align: right;\n",
       "    }\n",
       "</style>\n",
       "<table border=\"1\" class=\"dataframe\">\n",
       "  <thead>\n",
       "    <tr style=\"text-align: right;\">\n",
       "      <th></th>\n",
       "      <th>isbn13</th>\n",
       "      <th>title</th>\n",
       "      <th>authors</th>\n",
       "      <th>categories</th>\n",
       "      <th>description</th>\n",
       "      <th>published_year</th>\n",
       "      <th>average_rating</th>\n",
       "    </tr>\n",
       "  </thead>\n",
       "  <tbody>\n",
       "    <tr>\n",
       "      <th>6738</th>\n",
       "      <td>9781932206081</td>\n",
       "      <td>Insights</td>\n",
       "      <td>Frederick Lenz</td>\n",
       "      <td>Spiritual life</td>\n",
       "      <td>In 1983, when Rama - Dr. Frederick P. Lenz rec...</td>\n",
       "      <td>2003.0</td>\n",
       "      <td>5.00</td>\n",
       "    </tr>\n",
       "    <tr>\n",
       "      <th>4284</th>\n",
       "      <td>9780738539560</td>\n",
       "      <td>Lake Orion</td>\n",
       "      <td>James E. Ingram;Lori Grove</td>\n",
       "      <td>History</td>\n",
       "      <td>Orion Township, established in 1835, became a ...</td>\n",
       "      <td>2006.0</td>\n",
       "      <td>5.00</td>\n",
       "    </tr>\n",
       "    <tr>\n",
       "      <th>3580</th>\n",
       "      <td>9780567044716</td>\n",
       "      <td>Colossians and Philemon</td>\n",
       "      <td>Robert McL Wilson</td>\n",
       "      <td>Religion</td>\n",
       "      <td>For over one hundred years International Criti...</td>\n",
       "      <td>2005.0</td>\n",
       "      <td>5.00</td>\n",
       "    </tr>\n",
       "    <tr>\n",
       "      <th>4306</th>\n",
       "      <td>9780739844328</td>\n",
       "      <td>Bill Gates</td>\n",
       "      <td>Sara Barton-Wood</td>\n",
       "      <td>Juvenile Nonfiction</td>\n",
       "      <td>Presents the life of Bill Gates, from his chil...</td>\n",
       "      <td>2001.0</td>\n",
       "      <td>5.00</td>\n",
       "    </tr>\n",
       "    <tr>\n",
       "      <th>5398</th>\n",
       "      <td>9780851621814</td>\n",
       "      <td>The Complete Theory Fun Factory</td>\n",
       "      <td>Katie Elliott;Ian Martin</td>\n",
       "      <td>Juvenile Nonfiction</td>\n",
       "      <td>(Boosey &amp; Hawkes Scores/Books). Contains the m...</td>\n",
       "      <td>1996.0</td>\n",
       "      <td>5.00</td>\n",
       "    </tr>\n",
       "    <tr>\n",
       "      <th>...</th>\n",
       "      <td>...</td>\n",
       "      <td>...</td>\n",
       "      <td>...</td>\n",
       "      <td>...</td>\n",
       "      <td>...</td>\n",
       "      <td>...</td>\n",
       "      <td>...</td>\n",
       "    </tr>\n",
       "    <tr>\n",
       "      <th>4871</th>\n",
       "      <td>9780786809943</td>\n",
       "      <td>The Final Battle</td>\n",
       "      <td>Mary Pope Osborne</td>\n",
       "      <td>Juvenile Fiction</td>\n",
       "      <td>After struggling against the gods and his fate...</td>\n",
       "      <td>2005.0</td>\n",
       "      <td>4.08</td>\n",
       "    </tr>\n",
       "    <tr>\n",
       "      <th>4720</th>\n",
       "      <td>9780765309969</td>\n",
       "      <td>Blade of Fortriu</td>\n",
       "      <td>Juliet Marillier</td>\n",
       "      <td>Fiction</td>\n",
       "      <td>As King Bridei prepares to expel the Gaelic in...</td>\n",
       "      <td>2006.0</td>\n",
       "      <td>4.08</td>\n",
       "    </tr>\n",
       "    <tr>\n",
       "      <th>1701</th>\n",
       "      <td>9780330340199</td>\n",
       "      <td>In Pharaoh's Army</td>\n",
       "      <td>Tobias Wolff</td>\n",
       "      <td>Authors, American</td>\n",
       "      <td>Having survived the extraordinary childhood re...</td>\n",
       "      <td>1995.0</td>\n",
       "      <td>4.08</td>\n",
       "    </tr>\n",
       "    <tr>\n",
       "      <th>1066</th>\n",
       "      <td>9780143039853</td>\n",
       "      <td>The Outsiders</td>\n",
       "      <td>S. E. Hinton;Jodi Picoult</td>\n",
       "      <td>Fiction</td>\n",
       "      <td>The struggle of three brothers to stay togethe...</td>\n",
       "      <td>1967.0</td>\n",
       "      <td>4.08</td>\n",
       "    </tr>\n",
       "    <tr>\n",
       "      <th>4771</th>\n",
       "      <td>9780767905107</td>\n",
       "      <td>Q</td>\n",
       "      <td>Quincy Jones</td>\n",
       "      <td>Biography &amp; Autobiography</td>\n",
       "      <td>The legendary musician, producer, and arranger...</td>\n",
       "      <td>2002.0</td>\n",
       "      <td>4.08</td>\n",
       "    </tr>\n",
       "  </tbody>\n",
       "</table>\n",
       "<p>2000 rows × 7 columns</p>\n",
       "</div>"
      ],
      "text/plain": [
       "             isbn13                            title   \n",
       "6738  9781932206081                         Insights  \\\n",
       "4284  9780738539560                       Lake Orion   \n",
       "3580  9780567044716          Colossians and Philemon   \n",
       "4306  9780739844328                       Bill Gates   \n",
       "5398  9780851621814  The Complete Theory Fun Factory   \n",
       "...             ...                              ...   \n",
       "4871  9780786809943                 The Final Battle   \n",
       "4720  9780765309969                 Blade of Fortriu   \n",
       "1701  9780330340199                In Pharaoh's Army   \n",
       "1066  9780143039853                    The Outsiders   \n",
       "4771  9780767905107                                Q   \n",
       "\n",
       "                         authors                 categories   \n",
       "6738              Frederick Lenz             Spiritual life  \\\n",
       "4284  James E. Ingram;Lori Grove                    History   \n",
       "3580           Robert McL Wilson                   Religion   \n",
       "4306            Sara Barton-Wood        Juvenile Nonfiction   \n",
       "5398    Katie Elliott;Ian Martin        Juvenile Nonfiction   \n",
       "...                          ...                        ...   \n",
       "4871           Mary Pope Osborne           Juvenile Fiction   \n",
       "4720            Juliet Marillier                    Fiction   \n",
       "1701                Tobias Wolff          Authors, American   \n",
       "1066   S. E. Hinton;Jodi Picoult                    Fiction   \n",
       "4771                Quincy Jones  Biography & Autobiography   \n",
       "\n",
       "                                            description  published_year   \n",
       "6738  In 1983, when Rama - Dr. Frederick P. Lenz rec...          2003.0  \\\n",
       "4284  Orion Township, established in 1835, became a ...          2006.0   \n",
       "3580  For over one hundred years International Criti...          2005.0   \n",
       "4306  Presents the life of Bill Gates, from his chil...          2001.0   \n",
       "5398  (Boosey & Hawkes Scores/Books). Contains the m...          1996.0   \n",
       "...                                                 ...             ...   \n",
       "4871  After struggling against the gods and his fate...          2005.0   \n",
       "4720  As King Bridei prepares to expel the Gaelic in...          2006.0   \n",
       "1701  Having survived the extraordinary childhood re...          1995.0   \n",
       "1066  The struggle of three brothers to stay togethe...          1967.0   \n",
       "4771  The legendary musician, producer, and arranger...          2002.0   \n",
       "\n",
       "      average_rating  \n",
       "6738            5.00  \n",
       "4284            5.00  \n",
       "3580            5.00  \n",
       "4306            5.00  \n",
       "5398            5.00  \n",
       "...              ...  \n",
       "4871            4.08  \n",
       "4720            4.08  \n",
       "1701            4.08  \n",
       "1066            4.08  \n",
       "4771            4.08  \n",
       "\n",
       "[2000 rows x 7 columns]"
      ]
     },
     "execution_count": 12,
     "metadata": {},
     "output_type": "execute_result"
    }
   ],
   "source": [
    "# Loading the CSV file into a Pandas DataFrame\n",
    "df = pd.read_csv('./data/books_dataset.csv')\n",
    "\n",
    "# Cleaning the data, dropping rows with missing values\n",
    "df.dropna(inplace=True)\n",
    "\n",
    "# sorting by average rating the returning the first 2000 records\n",
    "df = df.sort_values('average_rating', ascending=False).head(2000)\n",
    "df"
   ]
  },
  {
   "attachments": {},
   "cell_type": "markdown",
   "id": "407b5a3b",
   "metadata": {},
   "source": [
    "### 2. Embedding Cost Calculation"
   ]
  },
  {
   "cell_type": "code",
   "execution_count": 8,
   "id": "e7086691",
   "metadata": {},
   "outputs": [
    {
     "name": "stdout",
     "output_type": "stream",
     "text": [
      "Total tokens: 166700\n",
      "Estimated cost in USD: 0.0666800000\n"
     ]
    }
   ],
   "source": [
    "import tiktoken\n",
    "\n",
    "enc = tiktoken.encoding_for_model('text-embedding-ada-002')\n",
    "descriptions = list(df['description'])\n",
    "total_tokens = sum([len(enc.encode(item)) for item in descriptions])\n",
    "print(f'Total tokens: {total_tokens}')\n",
    "\n",
    "cost = total_tokens * (0.0004/1000)\n",
    "print(f'Estimated cost in USD: {cost:.10f}')"
   ]
  },
  {
   "attachments": {},
   "cell_type": "markdown",
   "id": "25c3ec2a",
   "metadata": {},
   "source": [
    "### 3. Calculating the Embeddings and Cache Them Locally"
   ]
  },
  {
   "cell_type": "code",
   "execution_count": 9,
   "id": "197376ed",
   "metadata": {},
   "outputs": [],
   "source": [
    "def get_embeddings_and_save_to_csv(embedding_cache_file):\n",
    "    from openai.embeddings_utils import get_embedding\n",
    "    \n",
    "    # 1. adding a new column called embedding to the Pandas DataFrame\n",
    "    # 2. calling get_embedding() on each book's description\n",
    "    df['embedding'] = df['description'].apply(lambda x: get_embedding(x, engine='text-embedding-ada-002'))\n",
    "    \n",
    "    # saving the DataFrame to CSV\n",
    "    df.to_csv(embedding_cache_file)"
   ]
  },
  {
   "cell_type": "code",
   "execution_count": 10,
   "id": "1da5c3dd",
   "metadata": {},
   "outputs": [],
   "source": [
    "embedding_cache_file = './data/book_embeddings.csv'\n",
    "\n",
    "# calling the function (takes time and costs money)\n",
    "get_embeddings_and_save_to_csv(embedding_cache_file)"
   ]
  },
  {
   "attachments": {},
   "cell_type": "markdown",
   "id": "e7702b74",
   "metadata": {},
   "source": [
    "### 4. Loading the Embeddings"
   ]
  },
  {
   "cell_type": "code",
   "execution_count": 7,
   "id": "f869393f",
   "metadata": {},
   "outputs": [],
   "source": [
    "embedding_cache_file = './data/book_embeddings.csv'  # 2000 records\n",
    "# embedding_cache_file = 'books_embeddings_cache_big.csv'  # 50000 records\n",
    "df_embeddings = pd.read_csv(embedding_cache_file)\n",
    "\n",
    "# converting embeddings: str => numpy array\n",
    "df_embeddings['embedding'] = df_embeddings['embedding'].apply(eval).apply(np.array)"
   ]
  },
  {
   "cell_type": "code",
   "execution_count": 8,
   "id": "2c06571d",
   "metadata": {},
   "outputs": [
    {
     "data": {
      "text/plain": [
       "(2000, 9)"
      ]
     },
     "execution_count": 8,
     "metadata": {},
     "output_type": "execute_result"
    }
   ],
   "source": [
    "df_embeddings.shape"
   ]
  },
  {
   "attachments": {},
   "cell_type": "markdown",
   "id": "227b2b56",
   "metadata": {},
   "source": [
    "### 5. Getting Recommendations from Title"
   ]
  },
  {
   "cell_type": "code",
   "execution_count": 14,
   "id": "56c056e8",
   "metadata": {},
   "outputs": [],
   "source": [
    "# Copilot recommendation\n",
    "# def get_recommendations(query, df_embeddings, top_n=5):\n",
    "#     from sklearn.metrics.pairwise import cosine_similarity\n",
    "    \n",
    "#     # 1. getting the embedding for the query\n",
    "#     query_embedding = get_embedding(query, engine='text-embedding-ada-002')\n",
    "    \n",
    "#     # 2. converting the embedding to a numpy array\n",
    "#     query_embedding = np.array(eval(query_embedding))\n",
    "    \n",
    "#     # 3. calculating the cosine similarity between the query embedding and all the book embeddings\n",
    "#     cosine_similarities = cosine_similarity(query_embedding.reshape(1, -1), df_embeddings['embedding'].tolist())\n",
    "    \n",
    "#     # 4. sorting the books by their similarity to the query\n",
    "#     books_sorted_by_similarity = df_embeddings.iloc[np.argsort(cosine_similarities[0])][::-1]\n",
    "    \n",
    "#     # 5. returning the top N recommendations\n",
    "#     return books_sorted_by_similarity.head(top_n)\n",
    "\n",
    "def get_recommendation_from_title(df_embeddings, title, k):\n",
    "    from openai.embeddings_utils import distances_from_embeddings, indices_of_nearest_neighbors_from_distances\n",
    "    \n",
    "    # return False if title is not in the DataFrame\n",
    "    # lowercase search\n",
    "    title = title.strip()\n",
    "    if title.lower() not in list(df_embeddings['title'].str.lower()):\n",
    "        return False\n",
    "    \n",
    "    # embedding of the target book\n",
    "    book_embedding = df_embeddings[df_embeddings['title'].str.lower() == title.lower()]['embedding']\n",
    "    \n",
    "    # squeeze to a series (one dimension)\n",
    "    book_embedding = book_embedding.squeeze()\n",
    "   \n",
    "    # getting the all the embeddings into a Python list\n",
    "    embeddings = list(df_embeddings['embedding'])\n",
    "\n",
    "    # computing the distance from the target embedding to all the other embeddings\n",
    "    distances = distances_from_embeddings(book_embedding, embeddings)\n",
    "    # print(sorted(distances))\n",
    "    # [0, 0.15196297705554485, 0.1532065041537366, 0.15422387188303377, ..., 0.33120761884396, 0.3329323335122415]\n",
    "\n",
    "    indices_of_nearest_neighbors = indices_of_nearest_neighbors_from_distances(distances)\n",
    "    # print(indices_of_nearest_neighbors)\n",
    "    # [  97  771    7 ...  137 1465  861]\n",
    "\n",
    "    recommendations = list()\n",
    "    for index in indices_of_nearest_neighbors[1:k+1]:\n",
    "        book = dict()\n",
    "        book['title'] = df_embeddings.iloc[index]['title']\n",
    "        book['description'] = df_embeddings.iloc[index]['description']\n",
    "        book['distance'] = distances[index]\n",
    "        recommendations.append(book)\n",
    "\n",
    "    return recommendations    "
   ]
  },
  {
   "cell_type": "code",
   "execution_count": 13,
   "id": "48fc791b",
   "metadata": {},
   "outputs": [
    {
     "data": {
      "text/plain": [
       "isbn13                                                9780756616342\n",
       "title                                                        Animal\n",
       "authors                                  David Burnie;Don E. Wilson\n",
       "categories                                                  Zoology\n",
       "description       Offers photographs and information about mamma...\n",
       "published_year                                               2005.0\n",
       "average_rating                                                 4.52\n",
       "Name: 4620, dtype: object"
      ]
     },
     "execution_count": 13,
     "metadata": {},
     "output_type": "execute_result"
    }
   ],
   "source": [
    "# df.iloc[97]"
   ]
  },
  {
   "cell_type": "code",
   "execution_count": 18,
   "id": "c41cd619",
   "metadata": {},
   "outputs": [
    {
     "name": "stdout",
     "output_type": "stream",
     "text": [
      "Entered Title: Animal\n",
      "\n",
      "##################################################\n",
      "Book Recommendation #1, Distance: 0.15196297705554485\n",
      "Title: In Focus\n",
      "Description: A collection of nearly three hundred photographs from \"National Geographic,\" representing the work of more than one hundred fifty acclaimed photographers, captures portrait images of people from around the world.\n",
      "\n",
      "##################################################\n",
      "\n",
      "Book Recommendation #2, Distance: 0.1532065041537366\n",
      "Title: Ecuador Nature Guide\n",
      "Description: The guide provides information on 76 species of birds, plants, mammals and insects of Ecuador. Each species description is accompanied by an illustration as well as information on ecology, local names and uses. Profits from the sale of this guide will go\n",
      "\n",
      "##################################################\n",
      "\n",
      "Book Recommendation #3, Distance: 0.15422387188303377\n",
      "Title: Insects & Spiders\n",
      "Description: An introduction to the physical characteristics, habits, and habitats of different types of insects and spiders.\n",
      "\n",
      "##################################################\n",
      "\n",
      "Book Recommendation #4, Distance: 0.15479734593282235\n",
      "Title: The Roald Dahl Treasury\n",
      "Description: Presents selections from the author's children's books arranged in such categories as \"Animals,\" \"Magic,\" \"Family, friends and foes,\" and \"Matters of importance\"\n",
      "\n",
      "##################################################\n",
      "\n",
      "Book Recommendation #5, Distance: 0.1607716353441886\n",
      "Title: Under the Sea Wind\n",
      "Description: Describes the sea birds and sea creatures that inhabit the Eastern coasts of North America.\n",
      "\n",
      "##################################################\n",
      "\n"
     ]
    }
   ],
   "source": [
    "title = input('Enter Book\\'s Title: ')\n",
    "book_recommendations = get_recommendation_from_title(df_embeddings, title, 5)\n",
    "# print(book_recommendations)\n",
    "\n",
    "print(f'Entered Title: {title}\\n')\n",
    "print('#' * 50)\n",
    "\n",
    "if book_recommendations:\n",
    "    for i, item in enumerate(book_recommendations):\n",
    "        print(f'Book Recommendation #{i+1}, Distance: {item[\"distance\"]}')\n",
    "        print(f'Title: {item[\"title\"]}')\n",
    "        print(f'Description: {item[\"description\"]}')\n",
    "        print()\n",
    "        print('#' * 50)\n",
    "        print()\n",
    "else:\n",
    "    print(f'Title {title} does not exist in the dataset.')"
   ]
  }
 ],
 "metadata": {
  "kernelspec": {
   "display_name": ".venv",
   "language": "python",
   "name": "python3"
  },
  "language_info": {
   "codemirror_mode": {
    "name": "ipython",
    "version": 3
   },
   "file_extension": ".py",
   "mimetype": "text/x-python",
   "name": "python",
   "nbconvert_exporter": "python",
   "pygments_lexer": "ipython3",
   "version": "3.11.3"
  }
 },
 "nbformat": 4,
 "nbformat_minor": 5
}
